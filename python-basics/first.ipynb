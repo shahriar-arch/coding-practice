{
 "cells": [
  {
   "cell_type": "markdown",
   "id": "90c840e8-dcd9-468f-9ea0-0244cc379f9c",
   "metadata": {},
   "source": [
    "Python3 program to get input from user, accepting integer from the user, the return type of input() function is string, so we need to convert the input to integer. "
   ]
  },
  {
   "cell_type": "code",
   "execution_count": 1,
   "id": "dba99b93-3760-46f6-950b-72eed0b66396",
   "metadata": {},
   "outputs": [
    {
     "name": "stdin",
     "output_type": "stream",
     "text": [
      "Enter num1:  2\n",
      "Enter num2:  3\n"
     ]
    },
    {
     "name": "stdout",
     "output_type": "stream",
     "text": [
      "Product is:  6\n"
     ]
    }
   ],
   "source": [
    "num1 = int(input(\"Enter num1: \"))\n",
    "num2 = int(input(\"Enter num2: \"))\n",
    "\n",
    "num3 = num1 * num2\n",
    "print(\"Product is: \", num3)"
   ]
  },
  {
   "cell_type": "markdown",
   "id": "dabe27d1-02a9-4e02-b8b6-f66befb9f6b1",
   "metadata": {},
   "source": [
    "Python program to illustrate selection statement "
   ]
  },
  {
   "cell_type": "code",
   "execution_count": 3,
   "id": "fa8e9162-ecc0-48e7-a3fd-e9cf16a3556f",
   "metadata": {},
   "outputs": [
    {
     "name": "stdin",
     "output_type": "stream",
     "text": [
      "Enter a number:  2\n"
     ]
    },
    {
     "name": "stdout",
     "output_type": "stream",
     "text": [
      "Number is great\n"
     ]
    }
   ],
   "source": [
    "num1 = int(input(\"Enter a number: \"))\n",
    "\n",
    "if num1 > 12:\n",
    "    print(\"Number is good\")\n",
    "elif num1 > 35:\n",
    "    print(\"Number is not good...\")\n",
    "else:\n",
    "    print(\"Number is great\")"
   ]
  },
  {
   "cell_type": "code",
   "execution_count": 4,
   "id": "bb103d96-b49a-483e-9dc7-9ffbd7f7c0c0",
   "metadata": {},
   "outputs": [
    {
     "name": "stdout",
     "output_type": "stream",
     "text": [
      "hello\n",
      "hello again\n",
      "hello\n",
      "hello again\n"
     ]
    }
   ],
   "source": [
    "def hello():\n",
    "    print(\"hello\")\n",
    "    print(\"hello again\")\n",
    "\n",
    "hello()\n",
    "hello()"
   ]
  },
  {
   "cell_type": "code",
   "execution_count": 5,
   "id": "c49ad594-99c4-417d-b1e0-f4c4328872cb",
   "metadata": {},
   "outputs": [
    {
     "name": "stdout",
     "output_type": "stream",
     "text": [
      "Started\n"
     ]
    },
    {
     "name": "stdin",
     "output_type": "stream",
     "text": [
      "Enter Integer:  2\n"
     ]
    },
    {
     "name": "stdout",
     "output_type": "stream",
     "text": [
      "2\n"
     ]
    }
   ],
   "source": [
    "def getInteger():\n",
    "    result = int(input(\"Enter Integer: \"))\n",
    "    return result\n",
    "\n",
    "def Main():\n",
    "    print(\"Started\")\n",
    "    output = getInteger()\n",
    "    print(output)\n",
    "\n",
    "if __name__ == \"__main__\":\n",
    "    Main()"
   ]
  },
  {
   "cell_type": "code",
   "execution_count": 6,
   "id": "763c495a-5224-40de-a34c-247c81affa98",
   "metadata": {},
   "outputs": [
    {
     "name": "stdout",
     "output_type": "stream",
     "text": [
      "0\n",
      "1\n",
      "2\n",
      "3\n",
      "4\n"
     ]
    }
   ],
   "source": [
    "for step in range(5):\n",
    "    print(step)"
   ]
  },
  {
   "cell_type": "code",
   "execution_count": 7,
   "id": "6bad962e-7c0a-4f2e-a9ed-c092368a78e8",
   "metadata": {},
   "outputs": [
    {
     "name": "stdout",
     "output_type": "stream",
     "text": [
      "85.0\n"
     ]
    }
   ],
   "source": [
    "import math\n",
    "\n",
    "def Main():\n",
    "    num = -85\n",
    "    num = math.fabs(num)\n",
    "    print(num)\n",
    "\n",
    "if __name__ == \"__main__\":\n",
    "    Main()"
   ]
  },
  {
   "cell_type": "code",
   "execution_count": 8,
   "id": "6400a43f-a844-428f-aa2c-ad3a3c42cbd1",
   "metadata": {},
   "outputs": [
    {
     "name": "stdout",
     "output_type": "stream",
     "text": [
      "{1: 'Geeks', 2: 'For', 3: 'Geeks'}\n"
     ]
    }
   ],
   "source": [
    "Dict = []\n",
    "\n",
    "Dict = {1: \"Geeks\", 2: \"For\", 3: \"Geeks\"}\n",
    "\n",
    "print(Dict)"
   ]
  },
  {
   "cell_type": "code",
   "execution_count": 9,
   "id": "65ce929c-79a1-4872-906f-dfd285a2753f",
   "metadata": {},
   "outputs": [
    {
     "name": "stdout",
     "output_type": "stream",
     "text": [
      "('Geeks', 'For', 'Geeks')\n"
     ]
    }
   ],
   "source": [
    "tup = (\"Geeks\", \"For\", \"Geeks\")\n",
    "print(tup)"
   ]
  },
  {
   "cell_type": "code",
   "execution_count": 10,
   "id": "f82293ec-15bb-400b-bb9d-8d74e9c96371",
   "metadata": {},
   "outputs": [
    {
     "name": "stdout",
     "output_type": "stream",
     "text": [
      "{'Geeks', 'For'}\n"
     ]
    }
   ],
   "source": [
    "myset = set([\"Geeks\", \"For\", \"Geeks\"])\n",
    "print(myset)"
   ]
  },
  {
   "cell_type": "code",
   "execution_count": null,
   "id": "fc906414-125d-49fe-8642-812edeec0d11",
   "metadata": {},
   "outputs": [],
   "source": []
  }
 ],
 "metadata": {
  "kernelspec": {
   "display_name": "Python 3 (ipykernel)",
   "language": "python",
   "name": "python3"
  },
  "language_info": {
   "codemirror_mode": {
    "name": "ipython",
    "version": 3
   },
   "file_extension": ".py",
   "mimetype": "text/x-python",
   "name": "python",
   "nbconvert_exporter": "python",
   "pygments_lexer": "ipython3",
   "version": "3.12.0"
  }
 },
 "nbformat": 4,
 "nbformat_minor": 5
}
