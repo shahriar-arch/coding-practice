{
 "cells": [
  {
   "cell_type": "code",
   "execution_count": 2,
   "id": "590815fb",
   "metadata": {},
   "outputs": [
    {
     "data": {
      "text/plain": [
       "'\\nDictionary Format\\n\\nyour_dictionary = {\\n    key: value,\\n    key: value\\n}\\n\\n'"
      ]
     },
     "execution_count": 2,
     "metadata": {},
     "output_type": "execute_result"
    }
   ],
   "source": [
    "\"\"\"\n",
    "Dictionary Format\n",
    "\n",
    "your_dictionary = {\n",
    "    key: value,\n",
    "    key: value\n",
    "}\n",
    "\n",
    "\"\"\""
   ]
  },
  {
   "cell_type": "code",
   "execution_count": 3,
   "id": "60fdf314",
   "metadata": {},
   "outputs": [],
   "source": [
    "bad_guys = {\n",
    "    \"daredevil\": \"kingpin\",\n",
    "    \"x-men\": \"apocalypse\",\n",
    "    \"batman\": \"bane\"\n",
    "}"
   ]
  },
  {
   "cell_type": "code",
   "execution_count": 4,
   "id": "3803d448",
   "metadata": {},
   "outputs": [
    {
     "data": {
      "text/plain": [
       "{'daredevil': 'kingpin', 'x-men': 'apocalypse', 'batman': 'bane'}"
      ]
     },
     "execution_count": 4,
     "metadata": {},
     "output_type": "execute_result"
    }
   ],
   "source": [
    "bad_guys"
   ]
  },
  {
   "cell_type": "code",
   "execution_count": 5,
   "id": "46f8391c",
   "metadata": {},
   "outputs": [
    {
     "data": {
      "text/plain": [
       "'bane'"
      ]
     },
     "execution_count": 5,
     "metadata": {},
     "output_type": "execute_result"
    }
   ],
   "source": [
    "bad_guys[\"batman\"]"
   ]
  },
  {
   "cell_type": "code",
   "execution_count": 6,
   "id": "c0465e6b",
   "metadata": {},
   "outputs": [
    {
     "data": {
      "text/plain": [
       "'apocalypse'"
      ]
     },
     "execution_count": 6,
     "metadata": {},
     "output_type": "execute_result"
    }
   ],
   "source": [
    "bad_guys[\"x-men\"]"
   ]
  },
  {
   "cell_type": "code",
   "execution_count": 7,
   "id": "95b0e307",
   "metadata": {},
   "outputs": [
    {
     "ename": "KeyError",
     "evalue": "'avengers'",
     "output_type": "error",
     "traceback": [
      "\u001b[0;31m---------------------------------------------------------------------------\u001b[0m",
      "\u001b[0;31mKeyError\u001b[0m                                  Traceback (most recent call last)",
      "Cell \u001b[0;32mIn[7], line 1\u001b[0m\n\u001b[0;32m----> 1\u001b[0m \u001b[43mbad_guys\u001b[49m\u001b[43m[\u001b[49m\u001b[38;5;124;43m\"\u001b[39;49m\u001b[38;5;124;43mavengers\u001b[39;49m\u001b[38;5;124;43m\"\u001b[39;49m\u001b[43m]\u001b[49m\n",
      "\u001b[0;31mKeyError\u001b[0m: 'avengers'"
     ]
    }
   ],
   "source": [
    "bad_guys[\"avengers\"]"
   ]
  },
  {
   "cell_type": "code",
   "execution_count": 8,
   "id": "86943165",
   "metadata": {},
   "outputs": [],
   "source": [
    "bad_guys[\"deadpool\"] = \"evil deadpool\""
   ]
  },
  {
   "cell_type": "code",
   "execution_count": 9,
   "id": "e7fe53b1",
   "metadata": {},
   "outputs": [
    {
     "data": {
      "text/plain": [
       "{'daredevil': 'kingpin',\n",
       " 'x-men': 'apocalypse',\n",
       " 'batman': 'bane',\n",
       " 'deadpool': 'evil deadpool'}"
      ]
     },
     "execution_count": 9,
     "metadata": {},
     "output_type": "execute_result"
    }
   ],
   "source": [
    "bad_guys"
   ]
  },
  {
   "cell_type": "code",
   "execution_count": 10,
   "id": "1a72211c",
   "metadata": {},
   "outputs": [],
   "source": [
    "bad_guys[\"x-men\"] = \"juggernaut\""
   ]
  },
  {
   "cell_type": "code",
   "execution_count": 11,
   "id": "aa571519",
   "metadata": {},
   "outputs": [
    {
     "data": {
      "text/plain": [
       "{'daredevil': 'kingpin',\n",
       " 'x-men': 'juggernaut',\n",
       " 'batman': 'bane',\n",
       " 'deadpool': 'evil deadpool'}"
      ]
     },
     "execution_count": 11,
     "metadata": {},
     "output_type": "execute_result"
    }
   ],
   "source": [
    "bad_guys"
   ]
  },
  {
   "cell_type": "code",
   "execution_count": 12,
   "id": "7c9915c2",
   "metadata": {},
   "outputs": [],
   "source": [
    "del bad_guys[\"x-men\"]"
   ]
  },
  {
   "cell_type": "code",
   "execution_count": 13,
   "id": "1dd5045a",
   "metadata": {},
   "outputs": [
    {
     "data": {
      "text/plain": [
       "{'daredevil': 'kingpin', 'batman': 'bane', 'deadpool': 'evil deadpool'}"
      ]
     },
     "execution_count": 13,
     "metadata": {},
     "output_type": "execute_result"
    }
   ],
   "source": [
    "bad_guys"
   ]
  },
  {
   "cell_type": "code",
   "execution_count": 14,
   "id": "64fd1e9b",
   "metadata": {},
   "outputs": [
    {
     "ename": "KeyError",
     "evalue": "0",
     "output_type": "error",
     "traceback": [
      "\u001b[0;31m---------------------------------------------------------------------------\u001b[0m",
      "\u001b[0;31mKeyError\u001b[0m                                  Traceback (most recent call last)",
      "Cell \u001b[0;32mIn[14], line 2\u001b[0m\n\u001b[1;32m      1\u001b[0m \u001b[38;5;66;03m# you can not access values from a dict by index numbers\u001b[39;00m\n\u001b[0;32m----> 2\u001b[0m \u001b[43mbad_guys\u001b[49m\u001b[43m[\u001b[49m\u001b[38;5;241;43m0\u001b[39;49m\u001b[43m]\u001b[49m\n",
      "\u001b[0;31mKeyError\u001b[0m: 0"
     ]
    }
   ],
   "source": [
    "# you can not access values from a dict by index numbers\n",
    "bad_guys[0]"
   ]
  },
  {
   "cell_type": "code",
   "execution_count": 16,
   "id": "fcf1e97a",
   "metadata": {},
   "outputs": [],
   "source": [
    "d = {\n",
    "    0: \"plane\",\n",
    "    1: \"train\"\n",
    "}"
   ]
  },
  {
   "cell_type": "code",
   "execution_count": 17,
   "id": "271e8eec",
   "metadata": {},
   "outputs": [],
   "source": [
    "MLB_team = {\n",
    "    \"colorado\" : \"rockies\", \n",
    "    \"boston\" : \"redsox\", \n",
    "    \"minnesota\" : \"twins\",\n",
    "    \"milwaukee\" : \"brewers\",\n",
    "    \"seattle\": \"mariners\"\n",
    "}"
   ]
  },
  {
   "cell_type": "code",
   "execution_count": 18,
   "id": "e07a570d",
   "metadata": {},
   "outputs": [
    {
     "data": {
      "text/plain": [
       "{'colorado': 'rockies',\n",
       " 'boston': 'redsox',\n",
       " 'minnesota': 'twins',\n",
       " 'milwaukee': 'brewers',\n",
       " 'seattle': 'mariners'}"
      ]
     },
     "execution_count": 18,
     "metadata": {},
     "output_type": "execute_result"
    }
   ],
   "source": [
    "MLB_team"
   ]
  },
  {
   "cell_type": "code",
   "execution_count": 19,
   "id": "8572f68c",
   "metadata": {},
   "outputs": [],
   "source": [
    "MLB_team = dict([\n",
    "    ('colorado', 'rockies'),\n",
    "    ('boston', 'red sox'),\n",
    "    ('minnesota', 'twins'),\n",
    "    ('milwaukee', 'brewers'),\n",
    "    ('seattle', 'mariners')\n",
    "])"
   ]
  },
  {
   "cell_type": "code",
   "execution_count": 20,
   "id": "eca00cba",
   "metadata": {},
   "outputs": [
    {
     "data": {
      "text/plain": [
       "{'colorado': 'rockies',\n",
       " 'boston': 'red sox',\n",
       " 'minnesota': 'twins',\n",
       " 'milwaukee': 'brewers',\n",
       " 'seattle': 'mariners'}"
      ]
     },
     "execution_count": 20,
     "metadata": {},
     "output_type": "execute_result"
    }
   ],
   "source": [
    "MLB_team"
   ]
  },
  {
   "cell_type": "code",
   "execution_count": 21,
   "id": "6dc25a3b",
   "metadata": {},
   "outputs": [],
   "source": [
    "MLB_team = dict(\n",
    "    colorado = 'rockies',\n",
    "    boston = 'red sox',\n",
    "    minnesota = 'twins',\n",
    "    milwaukee = 'brewers',\n",
    "    seattle = 'mariners'\n",
    ")"
   ]
  },
  {
   "cell_type": "code",
   "execution_count": 22,
   "id": "26209164",
   "metadata": {},
   "outputs": [
    {
     "data": {
      "text/plain": [
       "dict"
      ]
     },
     "execution_count": 22,
     "metadata": {},
     "output_type": "execute_result"
    }
   ],
   "source": [
    "type(MLB_team)"
   ]
  },
  {
   "cell_type": "code",
   "execution_count": 23,
   "id": "b880b3de",
   "metadata": {},
   "outputs": [
    {
     "data": {
      "text/plain": [
       "{'colorado': 'rockies',\n",
       " 'boston': 'red sox',\n",
       " 'minnesota': 'twins',\n",
       " 'milwaukee': 'brewers',\n",
       " 'seattle': 'mariners'}"
      ]
     },
     "execution_count": 23,
     "metadata": {},
     "output_type": "execute_result"
    }
   ],
   "source": [
    "MLB_team"
   ]
  },
  {
   "cell_type": "code",
   "execution_count": 24,
   "id": "a49e43cc",
   "metadata": {},
   "outputs": [
    {
     "data": {
      "text/plain": [
       "'twins'"
      ]
     },
     "execution_count": 24,
     "metadata": {},
     "output_type": "execute_result"
    }
   ],
   "source": [
    "MLB_team[\"minnesota\"]"
   ]
  },
  {
   "cell_type": "code",
   "execution_count": 25,
   "id": "438d682c",
   "metadata": {},
   "outputs": [
    {
     "data": {
      "text/plain": [
       "'rockies'"
      ]
     },
     "execution_count": 25,
     "metadata": {},
     "output_type": "execute_result"
    }
   ],
   "source": [
    "MLB_team['colorado']"
   ]
  },
  {
   "cell_type": "code",
   "execution_count": 26,
   "id": "f68fb808",
   "metadata": {},
   "outputs": [
    {
     "ename": "KeyError",
     "evalue": "'toronto'",
     "output_type": "error",
     "traceback": [
      "\u001b[0;31m---------------------------------------------------------------------------\u001b[0m",
      "\u001b[0;31mKeyError\u001b[0m                                  Traceback (most recent call last)",
      "Cell \u001b[0;32mIn[26], line 1\u001b[0m\n\u001b[0;32m----> 1\u001b[0m \u001b[43mMLB_team\u001b[49m\u001b[43m[\u001b[49m\u001b[38;5;124;43m'\u001b[39;49m\u001b[38;5;124;43mtoronto\u001b[39;49m\u001b[38;5;124;43m'\u001b[39;49m\u001b[43m]\u001b[49m\n",
      "\u001b[0;31mKeyError\u001b[0m: 'toronto'"
     ]
    }
   ],
   "source": [
    "MLB_team['toronto']"
   ]
  },
  {
   "cell_type": "code",
   "execution_count": 27,
   "id": "8f797cca",
   "metadata": {},
   "outputs": [],
   "source": [
    "MLB_team['kansas city'] = 'royals'"
   ]
  },
  {
   "cell_type": "code",
   "execution_count": 28,
   "id": "d158edc2",
   "metadata": {},
   "outputs": [
    {
     "data": {
      "text/plain": [
       "{'colorado': 'rockies',\n",
       " 'boston': 'red sox',\n",
       " 'minnesota': 'twins',\n",
       " 'milwaukee': 'brewers',\n",
       " 'seattle': 'mariners',\n",
       " 'kansas city': 'royals'}"
      ]
     },
     "execution_count": 28,
     "metadata": {},
     "output_type": "execute_result"
    }
   ],
   "source": [
    "MLB_team"
   ]
  },
  {
   "cell_type": "code",
   "execution_count": 29,
   "id": "a5e44116",
   "metadata": {},
   "outputs": [],
   "source": [
    "MLB_team['seattle'] = \"seahawks\""
   ]
  },
  {
   "cell_type": "code",
   "execution_count": 30,
   "id": "87957c54",
   "metadata": {},
   "outputs": [
    {
     "data": {
      "text/plain": [
       "{'colorado': 'rockies',\n",
       " 'boston': 'red sox',\n",
       " 'minnesota': 'twins',\n",
       " 'milwaukee': 'brewers',\n",
       " 'seattle': 'seahawks',\n",
       " 'kansas city': 'royals'}"
      ]
     },
     "execution_count": 30,
     "metadata": {},
     "output_type": "execute_result"
    }
   ],
   "source": [
    "MLB_team"
   ]
  },
  {
   "cell_type": "code",
   "execution_count": 31,
   "id": "ae0757b1",
   "metadata": {},
   "outputs": [],
   "source": [
    "del MLB_team['seattle']"
   ]
  },
  {
   "cell_type": "code",
   "execution_count": 32,
   "id": "c3203e25",
   "metadata": {},
   "outputs": [
    {
     "data": {
      "text/plain": [
       "{'colorado': 'rockies',\n",
       " 'boston': 'red sox',\n",
       " 'minnesota': 'twins',\n",
       " 'milwaukee': 'brewers',\n",
       " 'kansas city': 'royals'}"
      ]
     },
     "execution_count": 32,
     "metadata": {},
     "output_type": "execute_result"
    }
   ],
   "source": [
    "MLB_team"
   ]
  },
  {
   "cell_type": "code",
   "execution_count": 33,
   "id": "e7d95ecd",
   "metadata": {},
   "outputs": [
    {
     "ename": "KeyError",
     "evalue": "'toronto'",
     "output_type": "error",
     "traceback": [
      "\u001b[0;31m---------------------------------------------------------------------------\u001b[0m",
      "\u001b[0;31mKeyError\u001b[0m                                  Traceback (most recent call last)",
      "Cell \u001b[0;32mIn[33], line 2\u001b[0m\n\u001b[1;32m      1\u001b[0m \u001b[38;5;66;03m# you can access dic with numerical index values\u001b[39;00m\n\u001b[0;32m----> 2\u001b[0m \u001b[43mMLB_team\u001b[49m\u001b[43m[\u001b[49m\u001b[38;5;124;43m\"\u001b[39;49m\u001b[38;5;124;43mtoronto\u001b[39;49m\u001b[38;5;124;43m\"\u001b[39;49m\u001b[43m]\u001b[49m\n",
      "\u001b[0;31mKeyError\u001b[0m: 'toronto'"
     ]
    }
   ],
   "source": [
    "# you can access dic with numerical index values\n",
    "MLB_team[\"toronto\"]"
   ]
  },
  {
   "cell_type": "code",
   "execution_count": 35,
   "id": "f9f4b1e5",
   "metadata": {},
   "outputs": [],
   "source": [
    "d = {\n",
    "    0 : \"a\",\n",
    "    1 : \"b\",\n",
    "    2 : \"c\",\n",
    "    3 : \"d\"\n",
    "}"
   ]
  },
  {
   "cell_type": "code",
   "execution_count": 36,
   "id": "c113cb53",
   "metadata": {},
   "outputs": [
    {
     "data": {
      "text/plain": [
       "{0: 'a', 1: 'b', 2: 'c', 3: 'd'}"
      ]
     },
     "execution_count": 36,
     "metadata": {},
     "output_type": "execute_result"
    }
   ],
   "source": [
    "d"
   ]
  },
  {
   "cell_type": "code",
   "execution_count": 37,
   "id": "b61890e7",
   "metadata": {},
   "outputs": [
    {
     "data": {
      "text/plain": [
       "'a'"
      ]
     },
     "execution_count": 37,
     "metadata": {},
     "output_type": "execute_result"
    }
   ],
   "source": [
    "d[0]"
   ]
  },
  {
   "cell_type": "code",
   "execution_count": 38,
   "id": "0d0b6f35",
   "metadata": {},
   "outputs": [
    {
     "data": {
      "text/plain": [
       "'c'"
      ]
     },
     "execution_count": 38,
     "metadata": {},
     "output_type": "execute_result"
    }
   ],
   "source": [
    "d[2]"
   ]
  },
  {
   "cell_type": "code",
   "execution_count": 39,
   "id": "b066ea05",
   "metadata": {},
   "outputs": [],
   "source": [
    "d = {3: \"d\", 2: \"c\", 1: \"b\", 0: \"a\"}"
   ]
  },
  {
   "cell_type": "code",
   "execution_count": 40,
   "id": "7d74a545",
   "metadata": {},
   "outputs": [
    {
     "data": {
      "text/plain": [
       "{3: 'd', 2: 'c', 1: 'b', 0: 'a'}"
      ]
     },
     "execution_count": 40,
     "metadata": {},
     "output_type": "execute_result"
    }
   ],
   "source": [
    "d"
   ]
  },
  {
   "cell_type": "code",
   "execution_count": 42,
   "id": "d841690c",
   "metadata": {},
   "outputs": [
    {
     "data": {
      "text/plain": [
       "dict"
      ]
     },
     "execution_count": 42,
     "metadata": {},
     "output_type": "execute_result"
    }
   ],
   "source": [
    "person = {}\n",
    "type(person)"
   ]
  },
  {
   "cell_type": "code",
   "execution_count": 43,
   "id": "5620dfd7",
   "metadata": {},
   "outputs": [],
   "source": [
    "person['fname'] = 'Joe'\n",
    "person['lname'] = 'Fonebone'\n",
    "person['age'] = 51\n",
    "person['spouse'] = \"Edna\"\n",
    "person['Children'] = ['Ralph', 'Betty', 'Joey']"
   ]
  },
  {
   "cell_type": "code",
   "execution_count": 44,
   "id": "3df6021c",
   "metadata": {},
   "outputs": [],
   "source": [
    "person['pets'] = {\"dog\": \"Fido\", \"cat\": \"Sox\"}"
   ]
  },
  {
   "cell_type": "code",
   "execution_count": 45,
   "id": "5b821ec6",
   "metadata": {},
   "outputs": [
    {
     "data": {
      "text/plain": [
       "{'fname': 'Joe',\n",
       " 'lname': 'Fonebone',\n",
       " 'age': 51,\n",
       " 'spouse': 'Edna',\n",
       " 'Children': ['Ralph', 'Betty', 'Joey'],\n",
       " 'pets': {'dog': 'Fido', 'cat': 'Sox'}}"
      ]
     },
     "execution_count": 45,
     "metadata": {},
     "output_type": "execute_result"
    }
   ],
   "source": [
    "person"
   ]
  },
  {
   "cell_type": "code",
   "execution_count": 46,
   "id": "eb1d14d8",
   "metadata": {},
   "outputs": [
    {
     "data": {
      "text/plain": [
       "'Joe'"
      ]
     },
     "execution_count": 46,
     "metadata": {},
     "output_type": "execute_result"
    }
   ],
   "source": [
    "person['fname']"
   ]
  },
  {
   "cell_type": "code",
   "execution_count": 47,
   "id": "8c1ecd34",
   "metadata": {},
   "outputs": [
    {
     "data": {
      "text/plain": [
       "51"
      ]
     },
     "execution_count": 47,
     "metadata": {},
     "output_type": "execute_result"
    }
   ],
   "source": [
    "person['age']"
   ]
  },
  {
   "cell_type": "code",
   "execution_count": 49,
   "id": "700279dd",
   "metadata": {},
   "outputs": [
    {
     "data": {
      "text/plain": [
       "['Ralph', 'Betty', 'Joey']"
      ]
     },
     "execution_count": 49,
     "metadata": {},
     "output_type": "execute_result"
    }
   ],
   "source": [
    "person['Children']"
   ]
  },
  {
   "cell_type": "code",
   "execution_count": 50,
   "id": "a132ac4b",
   "metadata": {},
   "outputs": [
    {
     "data": {
      "text/plain": [
       "'Joey'"
      ]
     },
     "execution_count": 50,
     "metadata": {},
     "output_type": "execute_result"
    }
   ],
   "source": [
    "person[\"Children\"][-1]"
   ]
  },
  {
   "cell_type": "code",
   "execution_count": 51,
   "id": "1388fd61",
   "metadata": {},
   "outputs": [
    {
     "data": {
      "text/plain": [
       "'Sox'"
      ]
     },
     "execution_count": 51,
     "metadata": {},
     "output_type": "execute_result"
    }
   ],
   "source": [
    "person['pets']['cat']"
   ]
  },
  {
   "cell_type": "code",
   "execution_count": 53,
   "id": "5bff3c6f",
   "metadata": {},
   "outputs": [],
   "source": [
    "foo = {\n",
    "    42: \"aaa\",\n",
    "    2.78: \"bbb\",\n",
    "    True: \"ccc\"\n",
    "}"
   ]
  },
  {
   "cell_type": "code",
   "execution_count": 54,
   "id": "da66e679",
   "metadata": {},
   "outputs": [
    {
     "data": {
      "text/plain": [
       "'aaa'"
      ]
     },
     "execution_count": 54,
     "metadata": {},
     "output_type": "execute_result"
    }
   ],
   "source": [
    "foo[42]"
   ]
  },
  {
   "cell_type": "code",
   "execution_count": 55,
   "id": "cc1019ca",
   "metadata": {},
   "outputs": [
    {
     "data": {
      "text/plain": [
       "'bbb'"
      ]
     },
     "execution_count": 55,
     "metadata": {},
     "output_type": "execute_result"
    }
   ],
   "source": [
    "foo[2.78]"
   ]
  },
  {
   "cell_type": "code",
   "execution_count": 56,
   "id": "5b429aec",
   "metadata": {},
   "outputs": [
    {
     "data": {
      "text/plain": [
       "'ccc'"
      ]
     },
     "execution_count": 56,
     "metadata": {},
     "output_type": "execute_result"
    }
   ],
   "source": [
    "foo[True]"
   ]
  },
  {
   "cell_type": "code",
   "execution_count": 58,
   "id": "2689ed76",
   "metadata": {},
   "outputs": [],
   "source": [
    "# we can use bulit-in objects like types and functions as dict keys\n",
    "d = {int: 1, float: 2, bool: 3}"
   ]
  },
  {
   "cell_type": "code",
   "execution_count": 59,
   "id": "dc2057ae",
   "metadata": {},
   "outputs": [
    {
     "data": {
      "text/plain": [
       "2"
      ]
     },
     "execution_count": 59,
     "metadata": {},
     "output_type": "execute_result"
    }
   ],
   "source": [
    "d[float]"
   ]
  },
  {
   "cell_type": "code",
   "execution_count": 61,
   "id": "35091b0e",
   "metadata": {},
   "outputs": [],
   "source": [
    "d = {bin: 1, hex: 2, oct: 3}"
   ]
  },
  {
   "cell_type": "code",
   "execution_count": 62,
   "id": "79dfa217",
   "metadata": {},
   "outputs": [
    {
     "data": {
      "text/plain": [
       "3"
      ]
     },
     "execution_count": 62,
     "metadata": {},
     "output_type": "execute_result"
    }
   ],
   "source": [
    "d[oct]"
   ]
  },
  {
   "cell_type": "code",
   "execution_count": 63,
   "id": "64fde121",
   "metadata": {},
   "outputs": [
    {
     "data": {
      "text/plain": [
       "'\\nSome Restrictions- \\n1) a given key can appear in a dictionary only one, duplicate keys are \\n    not allowed. \\n2) a dictionary key must be of a type that is immutable, therefore neither\\n    a list nor another dictionary can serve as a dictionary key as they \\n    are mutable. \\n'"
      ]
     },
     "execution_count": 63,
     "metadata": {},
     "output_type": "execute_result"
    }
   ],
   "source": [
    "\"\"\"\n",
    "Some Restrictions- \n",
    "1) a given key can appear in a dictionary only one, duplicate keys are \n",
    "    not allowed. \n",
    "2) a dictionary key must be of a type that is immutable, therefore neither\n",
    "    a list nor another dictionary can serve as a dictionary key as they \n",
    "    are mutable. \n",
    "\"\"\""
   ]
  },
  {
   "cell_type": "code",
   "execution_count": 64,
   "id": "e1c90434",
   "metadata": {},
   "outputs": [],
   "source": [
    "# there is no restriction in dictionary values. A dictonary value can be\n",
    "# any type of values that python support. "
   ]
  },
  {
   "cell_type": "code",
   "execution_count": 65,
   "id": "d9449302",
   "metadata": {},
   "outputs": [],
   "source": [
    "d = {0: \"a\", 1: \"a\", 2: \"a\", 3: \"a\"}"
   ]
  },
  {
   "cell_type": "code",
   "execution_count": 66,
   "id": "d30c9f7c",
   "metadata": {},
   "outputs": [
    {
     "data": {
      "text/plain": [
       "True"
      ]
     },
     "execution_count": 66,
     "metadata": {},
     "output_type": "execute_result"
    }
   ],
   "source": [
    "d[0] == d[1]"
   ]
  },
  {
   "cell_type": "code",
   "execution_count": null,
   "id": "3255498f",
   "metadata": {},
   "outputs": [],
   "source": []
  }
 ],
 "metadata": {
  "kernelspec": {
   "display_name": "Python 3 (ipykernel)",
   "language": "python",
   "name": "python3"
  },
  "language_info": {
   "codemirror_mode": {
    "name": "ipython",
    "version": 3
   },
   "file_extension": ".py",
   "mimetype": "text/x-python",
   "name": "python",
   "nbconvert_exporter": "python",
   "pygments_lexer": "ipython3",
   "version": "3.9.2"
  }
 },
 "nbformat": 4,
 "nbformat_minor": 5
}
