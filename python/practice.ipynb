{
 "cells": [
  {
   "cell_type": "code",
   "execution_count": 14,
   "metadata": {},
   "outputs": [
    {
     "name": "stdout",
     "output_type": "stream",
     "text": [
      "[[1, 2], [3, 4], [5, 6]]\n"
     ]
    }
   ],
   "source": [
    "numList = []\n",
    "while True:\n",
    "    x = [int(a) for a in input().split()]\n",
    "    if x:\n",
    "        numList.append(x)\n",
    "    else:\n",
    "        break\n",
    "print(numList)\n"
   ]
  },
  {
   "cell_type": "code",
   "execution_count": 42,
   "metadata": {},
   "outputs": [
    {
     "name": "stdout",
     "output_type": "stream",
     "text": [
      "[[1.0], [2.0, 3.0], [4.0, 5.0], [6.0, 7.0]]\n"
     ]
    }
   ],
   "source": [
    "myList = [['1'], ['2', '3'], ['4', '5'], ['6', '7']]\n",
    "ele = 0\n",
    "for i in myList:\n",
    "    myList[ele] = [float(a) for a in i]\n",
    "    ele = ele + 1\n",
    "\n",
    "print(myList)"
   ]
  },
  {
   "cell_type": "code",
   "execution_count": 45,
   "metadata": {},
   "outputs": [
    {
     "name": "stdout",
     "output_type": "stream",
     "text": [
      "[1.0, 5.0, 9.0, 13.0]\n"
     ]
    }
   ],
   "source": [
    "myList = [[1.0], [2.0, 3.0], [4.0, 5.0], [6.0, 7.0]]\n",
    "finalList = []\n",
    "for i in myList:\n",
    "    sumI = sum(i)\n",
    "    finalList.append(sumI)\n",
    "\n",
    "print(finalList)\n",
    "    "
   ]
  },
  {
   "cell_type": "code",
   "execution_count": 1,
   "metadata": {},
   "outputs": [
    {
     "name": "stdout",
     "output_type": "stream",
     "text": [
      "1.0 5.0 9.0 13.0 "
     ]
    }
   ],
   "source": [
    "finalSumList = [1.0, 5.0, 9.0, 13.0]\n",
    "\n",
    "for i in finalSumList:\n",
    "    print(i, end = ' ')"
   ]
  },
  {
   "cell_type": "code",
   "execution_count": 13,
   "metadata": {},
   "outputs": [
    {
     "name": "stdout",
     "output_type": "stream",
     "text": [
      "[3.0, 7.0]\n",
      "3.0 7.0 "
     ]
    }
   ],
   "source": [
    "# When the number of pair is given in the first input\n",
    "\n",
    "#taking input for no of pair\n",
    "numPair = int(input())\n",
    "numInp = 1 #no of input \n",
    "numList = []\n",
    "\n",
    "# taking input for the numbers by using while loop and storing them in a list by nested lists \n",
    "while numInp <= numPair:\n",
    "    x = [float(a) for a in input().split()]\n",
    "    numList.append(x)\n",
    "    numInp = numInp + 1\n",
    "\n",
    "#taking the sum of the nested lists and creating a new list \n",
    "\n",
    "sumList = [] # creating a new list for taking the sums of the previous list \n",
    "\n",
    "for i in numList:\n",
    "    s = sum(i) # taking sum of every nested lists \n",
    "    sumList.append(s) # inserting the sum in the final list \n",
    "print(sumList)\n",
    "\n",
    "for i in sumList:\n",
    "    print(i, end = ' ')"
   ]
  },
  {
   "cell_type": "code",
   "execution_count": 16,
   "metadata": {},
   "outputs": [
    {
     "name": "stdout",
     "output_type": "stream",
     "text": [
      "3 7 "
     ]
    }
   ],
   "source": [
    "numList = []\n",
    "\n",
    "while True:\n",
    "    x = [int(a) for a in input().split()]\n",
    "    if x:\n",
    "        numList.append(x)\n",
    "    else:\n",
    "        break\n",
    "\n",
    "sumList = []\n",
    "\n",
    "for i in numList:\n",
    "    x = sum(i)\n",
    "    sumList.append(x)\n",
    "\n",
    "for i in sumList:\n",
    "    print(i, end = ' ')"
   ]
  },
  {
   "cell_type": "code",
   "execution_count": 1,
   "metadata": {},
   "outputs": [
    {
     "data": {
      "text/plain": [
       "[17, 5]"
      ]
     },
     "execution_count": 1,
     "metadata": {},
     "output_type": "execute_result"
    }
   ],
   "source": [
    "numbers = [17, 123]\n",
    "numbers[1] = 5\n",
    "numbers"
   ]
  },
  {
   "cell_type": "code",
   "execution_count": 3,
   "metadata": {},
   "outputs": [
    {
     "data": {
      "text/plain": [
       "False"
      ]
     },
     "execution_count": 3,
     "metadata": {},
     "output_type": "execute_result"
    }
   ],
   "source": [
    "cheeses = ['cheddar', 'edam', 'gouda']\n",
    "'edam' in cheeses\n",
    "'Brie' in cheeses"
   ]
  },
  {
   "cell_type": "code",
   "execution_count": 1,
   "metadata": {},
   "outputs": [
    {
     "name": "stdout",
     "output_type": "stream",
     "text": [
      "['a', 'c']\n",
      "b\n"
     ]
    }
   ],
   "source": [
    "t = ['a', 'b', 'c']\n",
    "x = t.pop(1)\n",
    "print(t)\n",
    "print(x)"
   ]
  },
  {
   "cell_type": "code",
   "execution_count": 3,
   "metadata": {},
   "outputs": [
    {
     "name": "stdout",
     "output_type": "stream",
     "text": [
      "['a', 'c']\n"
     ]
    }
   ],
   "source": [
    "t = ['a', 'b', 'c']\n",
    "del t[1]\n",
    "print(t)"
   ]
  },
  {
   "cell_type": "code",
   "execution_count": 4,
   "metadata": {},
   "outputs": [
    {
     "name": "stdout",
     "output_type": "stream",
     "text": [
      "['a', 'c']\n"
     ]
    }
   ],
   "source": [
    "t = ['a', 'b', 'c']\n",
    "t.remove('b')\n",
    "print(t)"
   ]
  },
  {
   "cell_type": "code",
   "execution_count": 5,
   "metadata": {},
   "outputs": [
    {
     "name": "stdout",
     "output_type": "stream",
     "text": [
      "['a', 'd', 'e', 'f']\n"
     ]
    }
   ],
   "source": [
    "t = ['a', 'b', 'c', 'd', 'e', 'f']\n",
    "del t[1:3]\n",
    "print(t)"
   ]
  },
  {
   "cell_type": "code",
   "execution_count": 7,
   "metadata": {},
   "outputs": [
    {
     "name": "stdout",
     "output_type": "stream",
     "text": [
      "len:  6\n",
      "max:  74\n",
      "min:  3\n",
      "sum:  154\n",
      "avg:  25.666666666666668\n"
     ]
    }
   ],
   "source": [
    "nums = [3, 41, 12, 9, 74, 15]\n",
    "print('len: ', len(nums))\n",
    "print('max: ', max(nums))\n",
    "print('min: ', min(nums))\n",
    "print('sum: ', sum(nums))\n",
    "print('avg: ', (sum(nums)/len(nums)))"
   ]
  },
  {
   "cell_type": "code",
   "execution_count": null,
   "metadata": {},
   "outputs": [],
   "source": []
  }
 ],
 "metadata": {
  "kernelspec": {
   "display_name": "Python 3.8.13 64-bit ('shims')",
   "language": "python",
   "name": "python3"
  },
  "language_info": {
   "codemirror_mode": {
    "name": "ipython",
    "version": 3
   },
   "file_extension": ".py",
   "mimetype": "text/x-python",
   "name": "python",
   "nbconvert_exporter": "python",
   "pygments_lexer": "ipython3",
   "version": "3.8.13"
  },
  "orig_nbformat": 4,
  "vscode": {
   "interpreter": {
    "hash": "9ac03a0a6051494cc606d484d27d20fce22fb7b4d169f583271e11d5ba46a56e"
   }
  }
 },
 "nbformat": 4,
 "nbformat_minor": 2
}
