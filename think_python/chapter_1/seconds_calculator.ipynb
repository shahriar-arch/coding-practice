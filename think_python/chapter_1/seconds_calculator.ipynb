{
 "cells": [
  {
   "cell_type": "code",
   "execution_count": 4,
   "metadata": {},
   "outputs": [],
   "source": [
    "\n",
    "def seconds_calculator(input_year, input_month, input_day, input_hour, input_min, input_seconds):\n",
    "    \"\"\" A function to calculate seconds\"\"\"\n",
    "    \n",
    "    total_month = input_year * 12 # converting input year to month\n",
    "    total_day = (total_month + input_month) * 30.4375 # converting total month to day, assuming a 4 year cycle \n",
    "    total_hour = (total_day + input_day) * 24 # converting total day to hour\n",
    "    total_min = (total_hour + input_hour) * 60 # convering total hour to min \n",
    "    total_seconds = ((total_min + input_min) * 60) + input_seconds # converting total min to seconds\n",
    "    \n",
    "    return total_seconds\n",
    "\n"
   ]
  },
  {
   "cell_type": "code",
   "execution_count": 6,
   "metadata": {},
   "outputs": [
    {
     "name": "stdout",
     "output_type": "stream",
     "text": [
      "Total Seconds: 2562.0\n"
     ]
    }
   ],
   "source": [
    "# take inputs from the user\n",
    "\n",
    "year = float(input(\"Year: \"))\n",
    "month = float(input(\"Month: \"))\n",
    "day = float(input(\"Day: \"))\n",
    "hour = float(input(\"Hour: \"))\n",
    "min = float(input(\"Minute: \"))\n",
    "sec = float(input(\"Second: \"))\n",
    "\n",
    "final_output = seconds_calculator(year, month, day, hour, min, sec)\n",
    "\n",
    "print(\"Total Seconds:\", final_output)\n",
    "\n",
    "\n"
   ]
  },
  {
   "cell_type": "code",
   "execution_count": 1,
   "metadata": {},
   "outputs": [],
   "source": [
    "def sec_to_min_and_sec(sec):\n",
    "    minute = sec // 60\n",
    "    second = sec % 60\n",
    "    return minute, second"
   ]
  },
  {
   "cell_type": "code",
   "execution_count": 2,
   "metadata": {},
   "outputs": [
    {
     "name": "stdout",
     "output_type": "stream",
     "text": [
      "1 30\n"
     ]
    }
   ],
   "source": [
    "a, b = sec_to_min_and_sec(90)\n",
    "print(a, b)"
   ]
  },
  {
   "cell_type": "code",
   "execution_count": 3,
   "metadata": {},
   "outputs": [
    {
     "data": {
      "text/plain": [
       "1"
      ]
     },
     "execution_count": 3,
     "metadata": {},
     "output_type": "execute_result"
    }
   ],
   "source": [
    "a"
   ]
  },
  {
   "cell_type": "code",
   "execution_count": 4,
   "metadata": {},
   "outputs": [
    {
     "data": {
      "text/plain": [
       "30"
      ]
     },
     "execution_count": 4,
     "metadata": {},
     "output_type": "execute_result"
    }
   ],
   "source": [
    "b"
   ]
  },
  {
   "cell_type": "code",
   "execution_count": null,
   "metadata": {},
   "outputs": [],
   "source": []
  }
 ],
 "metadata": {
  "kernelspec": {
   "display_name": "Python 3",
   "language": "python",
   "name": "python3"
  },
  "language_info": {
   "codemirror_mode": {
    "name": "ipython",
    "version": 3
   },
   "file_extension": ".py",
   "mimetype": "text/x-python",
   "name": "python",
   "nbconvert_exporter": "python",
   "pygments_lexer": "ipython3",
   "version": "3.10.6"
  },
  "orig_nbformat": 4
 },
 "nbformat": 4,
 "nbformat_minor": 2
}
