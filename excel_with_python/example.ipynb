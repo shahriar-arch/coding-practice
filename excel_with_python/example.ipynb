{
 "cells": [
  {
   "cell_type": "markdown",
   "id": "00e89ffa-8ddb-418d-83da-20a4bfe1f086",
   "metadata": {},
   "source": [
    "# Hello World"
   ]
  },
  {
   "cell_type": "code",
   "execution_count": 10,
   "id": "5d3b5c44-0ad1-4cba-b9cb-d6b2afff0d40",
   "metadata": {},
   "outputs": [
    {
     "name": "stdout",
     "output_type": "stream",
     "text": [
      "Hello World!\n"
     ]
    }
   ],
   "source": [
    "# printing my first message!\n",
    "print('Hello World!')"
   ]
  },
  {
   "cell_type": "code",
   "execution_count": 6,
   "id": "8a0e061d-7b82-4692-9e6a-4ebefa6995ef",
   "metadata": {},
   "outputs": [
    {
     "data": {
      "text/plain": [
       "'Hello World!'"
      ]
     },
     "execution_count": 6,
     "metadata": {},
     "output_type": "execute_result"
    }
   ],
   "source": [
    "'Hello World!'"
   ]
  },
  {
   "cell_type": "code",
   "execution_count": 7,
   "id": "24a1802e-362c-41f0-af75-95996b838960",
   "metadata": {},
   "outputs": [
    {
     "name": "stdout",
     "output_type": "stream",
     "text": [
      "Asif\n"
     ]
    }
   ],
   "source": [
    "print('Asif')"
   ]
  },
  {
   "cell_type": "code",
   "execution_count": 9,
   "id": "9eee9b43-0e3c-4d29-acd0-8a2fd0ba9241",
   "metadata": {},
   "outputs": [
    {
     "name": "stdout",
     "output_type": "stream",
     "text": [
      "26\n"
     ]
    }
   ],
   "source": [
    "# my age\n",
    "print(26)"
   ]
  },
  {
   "cell_type": "markdown",
   "id": "220dd31f-48c1-416f-9ab7-6c597815fc8d",
   "metadata": {},
   "source": [
    "# Data Types"
   ]
  },
  {
   "cell_type": "code",
   "execution_count": 11,
   "id": "0d1678ac-f939-435d-878b-7a8e454a0ea6",
   "metadata": {},
   "outputs": [
    {
     "data": {
      "text/plain": [
       "int"
      ]
     },
     "execution_count": 11,
     "metadata": {},
     "output_type": "execute_result"
    }
   ],
   "source": [
    "type(1)"
   ]
  },
  {
   "cell_type": "code",
   "execution_count": 12,
   "id": "9525e7b1-8a42-464b-976b-349358fe994a",
   "metadata": {},
   "outputs": [
    {
     "data": {
      "text/plain": [
       "float"
      ]
     },
     "execution_count": 12,
     "metadata": {},
     "output_type": "execute_result"
    }
   ],
   "source": [
    "type(2.3)"
   ]
  },
  {
   "cell_type": "code",
   "execution_count": 13,
   "id": "27eb5b06-eac9-4ee1-aea9-a4eed3c4d1bf",
   "metadata": {},
   "outputs": [
    {
     "data": {
      "text/plain": [
       "3"
      ]
     },
     "execution_count": 13,
     "metadata": {},
     "output_type": "execute_result"
    }
   ],
   "source": [
    "1 + 2"
   ]
  },
  {
   "cell_type": "code",
   "execution_count": 14,
   "id": "743454cd-0f47-40ef-81b0-0e94e0f2f38d",
   "metadata": {},
   "outputs": [
    {
     "data": {
      "text/plain": [
       "3"
      ]
     },
     "execution_count": 14,
     "metadata": {},
     "output_type": "execute_result"
    }
   ],
   "source": [
    "4 - 1"
   ]
  },
  {
   "cell_type": "code",
   "execution_count": 16,
   "id": "788b9f54-90f3-4dd8-abe6-9949ab9e50b1",
   "metadata": {},
   "outputs": [
    {
     "data": {
      "text/plain": [
       "bool"
      ]
     },
     "execution_count": 16,
     "metadata": {},
     "output_type": "execute_result"
    }
   ],
   "source": [
    "type(True)"
   ]
  },
  {
   "cell_type": "code",
   "execution_count": 17,
   "id": "e2a7f3b1-3e9f-4f49-9e51-13d7ffae63f4",
   "metadata": {},
   "outputs": [
    {
     "data": {
      "text/plain": [
       "bool"
      ]
     },
     "execution_count": 17,
     "metadata": {},
     "output_type": "execute_result"
    }
   ],
   "source": [
    "type(False)"
   ]
  },
  {
   "cell_type": "code",
   "execution_count": 18,
   "id": "40ab264e-ec2c-43e8-a4ef-93329991f2d7",
   "metadata": {},
   "outputs": [
    {
     "data": {
      "text/plain": [
       "str"
      ]
     },
     "execution_count": 18,
     "metadata": {},
     "output_type": "execute_result"
    }
   ],
   "source": [
    "type(\"hello world\")"
   ]
  },
  {
   "cell_type": "code",
   "execution_count": 19,
   "id": "c4316e61-73e3-4332-a34f-629732bde9e6",
   "metadata": {},
   "outputs": [
    {
     "data": {
      "text/plain": [
       "'HELLO WORLD'"
      ]
     },
     "execution_count": 19,
     "metadata": {},
     "output_type": "execute_result"
    }
   ],
   "source": [
    "\"hello world\".upper()"
   ]
  },
  {
   "cell_type": "code",
   "execution_count": 21,
   "id": "a76af1f4-5eb4-4686-a591-117c9384893d",
   "metadata": {},
   "outputs": [
    {
     "name": "stdout",
     "output_type": "stream",
     "text": [
      "ASIF SHAHRIAR\n",
      "asif shahriar\n",
      "Asif Shahriar\n"
     ]
    }
   ],
   "source": [
    "print(\"Asif Shahriar\".upper())\n",
    "print(\"Asif Shahriar\".lower())\n",
    "print(\"Asif Shahriar\".title())"
   ]
  },
  {
   "cell_type": "code",
   "execution_count": 22,
   "id": "ee5c5d70-6db7-4827-bf28-d0c22f96f4f7",
   "metadata": {},
   "outputs": [
    {
     "data": {
      "text/plain": [
       "1"
      ]
     },
     "execution_count": 22,
     "metadata": {},
     "output_type": "execute_result"
    }
   ],
   "source": [
    "\"Asif Shahriar\".count('s')"
   ]
  },
  {
   "cell_type": "code",
   "execution_count": 23,
   "id": "9a70747f-65e6-4964-9457-558800f17a16",
   "metadata": {},
   "outputs": [
    {
     "data": {
      "text/plain": [
       "'ssif shshrisr'"
      ]
     },
     "execution_count": 23,
     "metadata": {},
     "output_type": "execute_result"
    }
   ],
   "source": [
    "\"asif shahriar\".replace('a', 's')"
   ]
  },
  {
   "cell_type": "markdown",
   "id": "264e4deb-6567-4d12-a20b-d1f31626bf14",
   "metadata": {},
   "source": [
    "# Variables"
   ]
  },
  {
   "cell_type": "code",
   "execution_count": 27,
   "id": "24edf15c-5fc9-44d4-8852-93c05d7c73fe",
   "metadata": {},
   "outputs": [
    {
     "data": {
      "text/plain": [
       "'I am learning Python'"
      ]
     },
     "execution_count": 27,
     "metadata": {},
     "output_type": "execute_result"
    }
   ],
   "source": [
    "message_1 = \"I am learning Python\"\n",
    "message_1"
   ]
  },
  {
   "cell_type": "code",
   "execution_count": 25,
   "id": "e506862e-27b0-4857-8730-08e1f03076ab",
   "metadata": {},
   "outputs": [
    {
     "data": {
      "text/plain": [
       "\"and it's fun!\""
      ]
     },
     "execution_count": 25,
     "metadata": {},
     "output_type": "execute_result"
    }
   ],
   "source": [
    "message_2 = \"and it's fun!\"\n",
    "message_2"
   ]
  },
  {
   "cell_type": "code",
   "execution_count": 28,
   "id": "2917a9e4-b2b1-4c9b-b69d-b08a84e41d17",
   "metadata": {},
   "outputs": [
    {
     "name": "stdout",
     "output_type": "stream",
     "text": [
      "I am learning Python and it's fun!\n"
     ]
    }
   ],
   "source": [
    "print(message_1 + \" \" + message_2)"
   ]
  },
  {
   "cell_type": "code",
   "execution_count": 29,
   "id": "e42ccf78-7562-4b40-bc04-5e4f043f4e7c",
   "metadata": {},
   "outputs": [
    {
     "name": "stdout",
     "output_type": "stream",
     "text": [
      "I am learning Python and it's fun!\n"
     ]
    }
   ],
   "source": [
    "print(f'{message_1} {message_2}')"
   ]
  },
  {
   "cell_type": "code",
   "execution_count": 30,
   "id": "0c159810-7229-433d-8f54-6c807f713e93",
   "metadata": {},
   "outputs": [],
   "source": [
    "message = message_1 + \" \" + message_2"
   ]
  },
  {
   "cell_type": "code",
   "execution_count": 31,
   "id": "4ba5d3f1-e2d5-4370-b563-67759bde13c9",
   "metadata": {},
   "outputs": [
    {
     "data": {
      "text/plain": [
       "\"I am learning Python and it's fun!\""
      ]
     },
     "execution_count": 31,
     "metadata": {},
     "output_type": "execute_result"
    }
   ],
   "source": [
    "message"
   ]
  },
  {
   "cell_type": "code",
   "execution_count": 32,
   "id": "a5725306-8e12-4c3c-9bfe-d0b81b9fdad1",
   "metadata": {},
   "outputs": [
    {
     "data": {
      "text/plain": [
       "'Asif Shahriar'"
      ]
     },
     "execution_count": 32,
     "metadata": {},
     "output_type": "execute_result"
    }
   ],
   "source": [
    "f'Asif Shahriar'"
   ]
  },
  {
   "cell_type": "code",
   "execution_count": 33,
   "id": "b04adaf4-351d-4446-8156-0d365f2af571",
   "metadata": {},
   "outputs": [
    {
     "data": {
      "text/plain": [
       "\"I am learning Python and it's fun!\""
      ]
     },
     "execution_count": 33,
     "metadata": {},
     "output_type": "execute_result"
    }
   ],
   "source": [
    "f'{message}'"
   ]
  },
  {
   "cell_type": "code",
   "execution_count": 35,
   "id": "1fef48d7-1d82-4589-a0dd-6a77ea389576",
   "metadata": {},
   "outputs": [
    {
     "data": {
      "text/plain": [
       "\"I am learning Python abc and it's fun!\""
      ]
     },
     "execution_count": 35,
     "metadata": {},
     "output_type": "execute_result"
    }
   ],
   "source": [
    "f'{message_1} abc {message_2}'"
   ]
  },
  {
   "cell_type": "markdown",
   "id": "92303bfc-aa3d-46b8-b793-0f82f3076e64",
   "metadata": {},
   "source": [
    "# List"
   ]
  },
  {
   "cell_type": "code",
   "execution_count": null,
   "id": "73a02f1f-c90a-49f2-8f83-16b756399655",
   "metadata": {},
   "outputs": [],
   "source": []
  }
 ],
 "metadata": {
  "kernelspec": {
   "display_name": "Python 3 (ipykernel)",
   "language": "python",
   "name": "python3"
  },
  "language_info": {
   "codemirror_mode": {
    "name": "ipython",
    "version": 3
   },
   "file_extension": ".py",
   "mimetype": "text/x-python",
   "name": "python",
   "nbconvert_exporter": "python",
   "pygments_lexer": "ipython3",
   "version": "3.12.0"
  }
 },
 "nbformat": 4,
 "nbformat_minor": 5
}
