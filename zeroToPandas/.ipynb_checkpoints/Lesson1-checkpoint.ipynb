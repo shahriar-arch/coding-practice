{
 "cells": [
  {
   "cell_type": "code",
   "execution_count": 1,
   "id": "c06b22bc",
   "metadata": {},
   "outputs": [
    {
     "data": {
      "text/plain": [
       "14"
      ]
     },
     "execution_count": 1,
     "metadata": {},
     "output_type": "execute_result"
    }
   ],
   "source": [
    "2 + 3 + 9"
   ]
  },
  {
   "cell_type": "code",
   "execution_count": 2,
   "id": "59980fd6",
   "metadata": {},
   "outputs": [
    {
     "data": {
      "text/plain": [
       "26"
      ]
     },
     "execution_count": 2,
     "metadata": {},
     "output_type": "execute_result"
    }
   ],
   "source": [
    "99 - 73"
   ]
  },
  {
   "cell_type": "code",
   "execution_count": 3,
   "id": "34ca5385",
   "metadata": {},
   "outputs": [
    {
     "data": {
      "text/plain": [
       "-33709.28"
      ]
     },
     "execution_count": 3,
     "metadata": {},
     "output_type": "execute_result"
    }
   ],
   "source": [
    "23.54 * -1432"
   ]
  },
  {
   "cell_type": "code",
   "execution_count": 4,
   "id": "71bdbf2c",
   "metadata": {},
   "outputs": [
    {
     "data": {
      "text/plain": [
       "14.285714285714286"
      ]
     },
     "execution_count": 4,
     "metadata": {},
     "output_type": "execute_result"
    }
   ],
   "source": [
    "100 / 7"
   ]
  },
  {
   "cell_type": "code",
   "execution_count": 5,
   "id": "0d0e1d9c",
   "metadata": {},
   "outputs": [
    {
     "data": {
      "text/plain": [
       "2"
      ]
     },
     "execution_count": 5,
     "metadata": {},
     "output_type": "execute_result"
    }
   ],
   "source": [
    "100 % 7"
   ]
  },
  {
   "cell_type": "code",
   "execution_count": 6,
   "id": "9741d55f",
   "metadata": {},
   "outputs": [
    {
     "data": {
      "text/plain": [
       "14"
      ]
     },
     "execution_count": 6,
     "metadata": {},
     "output_type": "execute_result"
    }
   ],
   "source": [
    "100 // 7"
   ]
  },
  {
   "cell_type": "code",
   "execution_count": 7,
   "id": "3515756e",
   "metadata": {},
   "outputs": [
    {
     "data": {
      "text/plain": [
       "125"
      ]
     },
     "execution_count": 7,
     "metadata": {},
     "output_type": "execute_result"
    }
   ],
   "source": [
    "5 ** 3"
   ]
  },
  {
   "cell_type": "code",
   "execution_count": 8,
   "id": "a03a06b0",
   "metadata": {},
   "outputs": [
    {
     "data": {
      "text/plain": [
       "1.53125"
      ]
     },
     "execution_count": 8,
     "metadata": {},
     "output_type": "execute_result"
    }
   ],
   "source": [
    "((2 + 5) * (17 - 3)) / (4 ** 3) "
   ]
  },
  {
   "cell_type": "markdown",
   "id": "0fc71ae1",
   "metadata": {},
   "source": [
    "The population of a town is 198568. Out of them 45312 are men and 35678 are women. Find the number of children in the town."
   ]
  },
  {
   "cell_type": "code",
   "execution_count": 9,
   "id": "a8a40ffb",
   "metadata": {},
   "outputs": [
    {
     "data": {
      "text/plain": [
       "117578"
      ]
     },
     "execution_count": 9,
     "metadata": {},
     "output_type": "execute_result"
    }
   ],
   "source": [
    "198568 - (45312 + 35678)"
   ]
  },
  {
   "cell_type": "markdown",
   "id": "2b0093dd",
   "metadata": {},
   "source": [
    "A shopkeeper has 2425 boxes of 24 pencils each. How many pencils do all the boxes have in all?"
   ]
  },
  {
   "cell_type": "code",
   "execution_count": 10,
   "id": "5c85ee19",
   "metadata": {},
   "outputs": [
    {
     "data": {
      "text/plain": [
       "58200"
      ]
     },
     "execution_count": 10,
     "metadata": {},
     "output_type": "execute_result"
    }
   ],
   "source": [
    "2425 * 24"
   ]
  },
  {
   "cell_type": "markdown",
   "id": "967523c0",
   "metadata": {},
   "source": [
    "Linda bought a coat for 2265 and a saree for 2150. She gave 5000 to the shopkeeper. How much money did the shopkeeper return to her?"
   ]
  },
  {
   "cell_type": "code",
   "execution_count": 11,
   "id": "b82d4f1f",
   "metadata": {},
   "outputs": [
    {
     "data": {
      "text/plain": [
       "585"
      ]
     },
     "execution_count": 11,
     "metadata": {},
     "output_type": "execute_result"
    }
   ],
   "source": [
    "5000 - (2265 + 2150)"
   ]
  },
  {
   "cell_type": "code",
   "execution_count": 12,
   "id": "3ed82a2e",
   "metadata": {},
   "outputs": [
    {
     "data": {
      "text/plain": [
       "4564.0"
      ]
     },
     "execution_count": 12,
     "metadata": {},
     "output_type": "execute_result"
    }
   ],
   "source": [
    "95844 / 21"
   ]
  },
  {
   "cell_type": "code",
   "execution_count": 13,
   "id": "0dfb204d",
   "metadata": {},
   "outputs": [
    {
     "data": {
      "text/plain": [
       "294384"
      ]
     },
     "execution_count": 13,
     "metadata": {},
     "output_type": "execute_result"
    }
   ],
   "source": [
    "24532 * 12"
   ]
  },
  {
   "cell_type": "code",
   "execution_count": 14,
   "id": "458f52ff",
   "metadata": {},
   "outputs": [
    {
     "data": {
      "text/plain": [
       "67545"
      ]
     },
     "execution_count": 14,
     "metadata": {},
     "output_type": "execute_result"
    }
   ],
   "source": [
    "450000 - (145968 + 236487)"
   ]
  },
  {
   "cell_type": "code",
   "execution_count": 15,
   "id": "b700a37d",
   "metadata": {},
   "outputs": [
    {
     "data": {
      "text/plain": [
       "199188"
      ]
     },
     "execution_count": 15,
     "metadata": {},
     "output_type": "execute_result"
    }
   ],
   "source": [
    "483685 - (146345 + 138152)"
   ]
  },
  {
   "cell_type": "code",
   "execution_count": 16,
   "id": "d22c744e",
   "metadata": {},
   "outputs": [
    {
     "data": {
      "text/plain": [
       "1162128"
      ]
     },
     "execution_count": 16,
     "metadata": {},
     "output_type": "execute_result"
    }
   ],
   "source": [
    "9372 * 124"
   ]
  },
  {
   "cell_type": "code",
   "execution_count": 17,
   "id": "61851b66",
   "metadata": {},
   "outputs": [
    {
     "data": {
      "text/plain": [
       "51.0"
      ]
     },
     "execution_count": 17,
     "metadata": {},
     "output_type": "execute_result"
    }
   ],
   "source": [
    "4386 / 86"
   ]
  },
  {
   "cell_type": "code",
   "execution_count": 18,
   "id": "9d95afdc",
   "metadata": {},
   "outputs": [
    {
     "data": {
      "text/plain": [
       "21.0"
      ]
     },
     "execution_count": 18,
     "metadata": {},
     "output_type": "execute_result"
    }
   ],
   "source": [
    "1575 / 75"
   ]
  },
  {
   "cell_type": "code",
   "execution_count": 19,
   "id": "c0631d0c",
   "metadata": {},
   "outputs": [
    {
     "data": {
      "text/plain": [
       "51625"
      ]
     },
     "execution_count": 19,
     "metadata": {},
     "output_type": "execute_result"
    }
   ],
   "source": [
    "1475 * 35"
   ]
  },
  {
   "cell_type": "code",
   "execution_count": 20,
   "id": "0a5a4e10",
   "metadata": {},
   "outputs": [
    {
     "data": {
      "text/plain": [
       "134249"
      ]
     },
     "execution_count": 20,
     "metadata": {},
     "output_type": "execute_result"
    }
   ],
   "source": [
    "52496 + 44929 + 36824"
   ]
  },
  {
   "cell_type": "code",
   "execution_count": 21,
   "id": "c86af67f",
   "metadata": {},
   "outputs": [
    {
     "data": {
      "text/plain": [
       "135.0"
      ]
     },
     "execution_count": 21,
     "metadata": {},
     "output_type": "execute_result"
    }
   ],
   "source": [
    "12960 / 96"
   ]
  },
  {
   "cell_type": "code",
   "execution_count": 22,
   "id": "263ecfe5",
   "metadata": {},
   "outputs": [
    {
     "data": {
      "text/plain": [
       "13975"
      ]
     },
     "execution_count": 22,
     "metadata": {},
     "output_type": "execute_result"
    }
   ],
   "source": [
    "12960 + 1015"
   ]
  },
  {
   "cell_type": "code",
   "execution_count": 23,
   "id": "077b3cba",
   "metadata": {},
   "outputs": [
    {
     "name": "stdout",
     "output_type": "stream",
     "text": [
      "125.0\n"
     ]
    }
   ],
   "source": [
    "Profit_per_bag = 1.25 * 0.2\n",
    "n = 500\n",
    "total_profit = Profit_per_bag * n\n",
    "print(total_profit)"
   ]
  },
  {
   "cell_type": "code",
   "execution_count": 26,
   "id": "7a52a423",
   "metadata": {},
   "outputs": [
    {
     "name": "stdout",
     "output_type": "stream",
     "text": [
      "The grocery store makes a total profit of $ 125.0\n"
     ]
    }
   ],
   "source": [
    "cost_of_ice_bag = 1.25\n",
    "profit_margin = 0.2\n",
    "number_of_bags = 500\n",
    "\n",
    "total_profit = number_of_bags * (cost_of_ice_bag * profit_margin)\n",
    "print(\"The grocery store makes a total profit of $\", total_profit)"
   ]
  },
  {
   "cell_type": "code",
   "execution_count": 29,
   "id": "44d75be0",
   "metadata": {},
   "outputs": [
    {
     "name": "stdout",
     "output_type": "stream",
     "text": [
      "1\n"
     ]
    }
   ],
   "source": [
    "# This comment gets its own line\n",
    "myFavoriteNumber = 1 \n",
    "print(myFavoriteNumber)"
   ]
  },
  {
   "cell_type": "code",
   "execution_count": 31,
   "id": "3a67849e",
   "metadata": {},
   "outputs": [
    {
     "name": "stdout",
     "output_type": "stream",
     "text": [
      "5\n"
     ]
    }
   ],
   "source": [
    "\"\"\"\n",
    "This is a multiline comment.\n",
    "Write as little or as much as you'd like. \n",
    "\n",
    "Comments are really helpful for people reading \n",
    "your code, but try to keep them short & to the point. \n",
    "\n",
    "Also if you use good variable names, then your code is\n",
    "often self explanatory, and you may not even need comments!\n",
    "\"\"\"\n",
    "\n",
    "aNeutralNumber = 5\n",
    "print(aNeutralNumber)"
   ]
  },
  {
   "cell_type": "code",
   "execution_count": 34,
   "id": "005b0df2",
   "metadata": {},
   "outputs": [
    {
     "name": "stdout",
     "output_type": "stream",
     "text": [
      "Profit made by the company $ 800\n"
     ]
    }
   ],
   "source": [
    "cost_for_a_trip = 5000\n",
    "no_of_passengers = 29\n",
    "ticket_price = 200\n",
    "\n",
    "revenue = no_of_passengers * ticket_price\n",
    "profit = revenue - cost_for_a_trip\n",
    "\n",
    "print(\"Profit made by the company $\", profit)"
   ]
  },
  {
   "cell_type": "code",
   "execution_count": null,
   "id": "fb29a28a",
   "metadata": {},
   "outputs": [],
   "source": []
  }
 ],
 "metadata": {
  "kernelspec": {
   "display_name": "Python 3 (ipykernel)",
   "language": "python",
   "name": "python3"
  },
  "language_info": {
   "codemirror_mode": {
    "name": "ipython",
    "version": 3
   },
   "file_extension": ".py",
   "mimetype": "text/x-python",
   "name": "python",
   "nbconvert_exporter": "python",
   "pygments_lexer": "ipython3",
   "version": "3.10.9"
  }
 },
 "nbformat": 4,
 "nbformat_minor": 5
}
