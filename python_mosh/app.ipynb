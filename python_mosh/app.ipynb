{
 "cells": [
  {
   "cell_type": "code",
   "execution_count": 2,
   "id": "663fc200",
   "metadata": {},
   "outputs": [
    {
     "name": "stdout",
     "output_type": "stream",
     "text": [
      "Asif Shahriar\n",
      "o----\n",
      " ||||\n",
      "**********\n"
     ]
    }
   ],
   "source": [
    "print(\"Asif Shahriar\")\n",
    "print('o----')\n",
    "print(' ||||')\n",
    "print('*' * 10)"
   ]
  },
  {
   "cell_type": "code",
   "execution_count": null,
   "id": "ccc2405d",
   "metadata": {},
   "outputs": [],
   "source": []
  }
 ],
 "metadata": {
  "kernelspec": {
   "display_name": "Python 3 (ipykernel)",
   "language": "python",
   "name": "python3"
  },
  "language_info": {
   "codemirror_mode": {
    "name": "ipython",
    "version": 3
   },
   "file_extension": ".py",
   "mimetype": "text/x-python",
   "name": "python",
   "nbconvert_exporter": "python",
   "pygments_lexer": "ipython3",
   "version": "3.10.6"
  }
 },
 "nbformat": 4,
 "nbformat_minor": 5
}
