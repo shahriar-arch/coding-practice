{
 "cells": [
  {
   "cell_type": "code",
   "execution_count": 1,
   "id": "a97da41f",
   "metadata": {},
   "outputs": [],
   "source": [
    "a = [10, 20, 30, 40]\n",
    "b = ['crunchy frog', 'ram bladder', 'lark vomit']"
   ]
  },
  {
   "cell_type": "code",
   "execution_count": 3,
   "id": "113f6824",
   "metadata": {},
   "outputs": [
    {
     "name": "stdout",
     "output_type": "stream",
     "text": [
      "<class 'list'>\n",
      "<class 'list'>\n"
     ]
    }
   ],
   "source": [
    "print(type(a))\n",
    "print(type(b))"
   ]
  },
  {
   "cell_type": "code",
   "execution_count": 4,
   "id": "f1f77344",
   "metadata": {},
   "outputs": [
    {
     "name": "stdout",
     "output_type": "stream",
     "text": [
      "['Cheddar', 'Edam', 'Gouda'] [17, 123] []\n"
     ]
    }
   ],
   "source": [
    "cheeses = ['Cheddar', 'Edam', 'Gouda']\n",
    "numbers = [17, 123]\n",
    "empty = []\n",
    "print(cheeses, numbers, empty)"
   ]
  },
  {
   "cell_type": "code",
   "execution_count": 5,
   "id": "fdbf0b93",
   "metadata": {},
   "outputs": [
    {
     "name": "stdout",
     "output_type": "stream",
     "text": [
      "Cheddar\n"
     ]
    }
   ],
   "source": [
    "print(cheeses[0])"
   ]
  },
  {
   "cell_type": "code",
   "execution_count": 6,
   "id": "842c425c",
   "metadata": {},
   "outputs": [
    {
     "name": "stdout",
     "output_type": "stream",
     "text": [
      "[17, 5]\n"
     ]
    }
   ],
   "source": [
    "numbers = [17, 123]\n",
    "numbers[1] = 5\n",
    "print(numbers)"
   ]
  },
  {
   "cell_type": "code",
   "execution_count": 8,
   "id": "ffc2e6a5",
   "metadata": {},
   "outputs": [
    {
     "name": "stdout",
     "output_type": "stream",
     "text": [
      "True\n",
      "False\n"
     ]
    }
   ],
   "source": [
    "cheeses = ['Cheddar', 'Edam', 'Gouda']\n",
    "print('Edam' in cheeses)\n",
    "print('Brie' in cheeses)"
   ]
  },
  {
   "cell_type": "code",
   "execution_count": 9,
   "id": "9a04466f",
   "metadata": {},
   "outputs": [
    {
     "name": "stdout",
     "output_type": "stream",
     "text": [
      "Cheddar\n",
      "Edam\n",
      "Gouda\n"
     ]
    }
   ],
   "source": [
    "for cheese in cheeses:\n",
    "    print(cheese)"
   ]
  },
  {
   "cell_type": "code",
   "execution_count": 11,
   "id": "eda5e7d8",
   "metadata": {},
   "outputs": [
    {
     "name": "stdout",
     "output_type": "stream",
     "text": [
      "[34, 10]\n",
      "[68, 20]\n"
     ]
    }
   ],
   "source": [
    "print(numbers)\n",
    "for i in range(len(numbers)):\n",
    "    numbers[i] = numbers[i] * 2\n",
    "print(numbers)"
   ]
  },
  {
   "cell_type": "code",
   "execution_count": 12,
   "id": "8935220b",
   "metadata": {},
   "outputs": [],
   "source": [
    "for x in empty:\n",
    "    print('This never happens.')"
   ]
  },
  {
   "cell_type": "code",
   "execution_count": 13,
   "id": "9a0e65f0",
   "metadata": {},
   "outputs": [
    {
     "name": "stdout",
     "output_type": "stream",
     "text": [
      "[1, 2, 3, 4, 5, 6]\n"
     ]
    }
   ],
   "source": [
    "a = [1, 2, 3]\n",
    "b = [4, 5, 6]\n",
    "c = a + b\n",
    "\n",
    "print(c)"
   ]
  },
  {
   "cell_type": "code",
   "execution_count": 14,
   "id": "b565316e",
   "metadata": {},
   "outputs": [
    {
     "data": {
      "text/plain": [
       "[0, 0, 0, 0]"
      ]
     },
     "execution_count": 14,
     "metadata": {},
     "output_type": "execute_result"
    }
   ],
   "source": [
    "[0] * 4"
   ]
  },
  {
   "cell_type": "code",
   "execution_count": 16,
   "id": "09205582",
   "metadata": {},
   "outputs": [
    {
     "data": {
      "text/plain": [
       "[1, 2, 3, 1, 2, 3, 1, 2, 3, 1, 2, 3]"
      ]
     },
     "execution_count": 16,
     "metadata": {},
     "output_type": "execute_result"
    }
   ],
   "source": [
    "[1, 2, 3] * 4"
   ]
  },
  {
   "cell_type": "code",
   "execution_count": 17,
   "id": "1f9e317a",
   "metadata": {},
   "outputs": [
    {
     "name": "stdout",
     "output_type": "stream",
     "text": [
      "['b', 'c']\n",
      "['a', 'b', 'c', 'd']\n",
      "['d', 'e', 'f']\n"
     ]
    }
   ],
   "source": [
    "t = ['a', 'b', 'c', 'd', 'e', 'f']\n",
    "print(t[1:3])\n",
    "print(t[:4])\n",
    "print(t[3:])"
   ]
  },
  {
   "cell_type": "code",
   "execution_count": 18,
   "id": "bc75d198",
   "metadata": {},
   "outputs": [
    {
     "data": {
      "text/plain": [
       "['a', 'b', 'c', 'd', 'e', 'f']"
      ]
     },
     "execution_count": 18,
     "metadata": {},
     "output_type": "execute_result"
    }
   ],
   "source": [
    "t[:]"
   ]
  },
  {
   "cell_type": "code",
   "execution_count": 19,
   "id": "9904a9de",
   "metadata": {},
   "outputs": [],
   "source": [
    "t[1:3] =['y', 'z']"
   ]
  },
  {
   "cell_type": "code",
   "execution_count": 20,
   "id": "ca726a10",
   "metadata": {},
   "outputs": [
    {
     "data": {
      "text/plain": [
       "['a', 'y', 'z', 'd', 'e', 'f']"
      ]
     },
     "execution_count": 20,
     "metadata": {},
     "output_type": "execute_result"
    }
   ],
   "source": [
    "t"
   ]
  },
  {
   "cell_type": "code",
   "execution_count": 21,
   "id": "52b0b7c5",
   "metadata": {},
   "outputs": [
    {
     "name": "stdout",
     "output_type": "stream",
     "text": [
      "['a', 'b', 'c', 'd']\n"
     ]
    }
   ],
   "source": [
    "t = ['a', 'b', 'c']\n",
    "t.append('d')\n",
    "print(t)"
   ]
  },
  {
   "cell_type": "code",
   "execution_count": 22,
   "id": "9edcf4a1",
   "metadata": {},
   "outputs": [
    {
     "name": "stdout",
     "output_type": "stream",
     "text": [
      "['a', 'b', 'c', 'd', 'e']\n"
     ]
    }
   ],
   "source": [
    "t1 = ['a', 'b', 'c']\n",
    "t2 = ['d', 'e']\n",
    "t1.extend(t2)\n",
    "print(t1)"
   ]
  },
  {
   "cell_type": "code",
   "execution_count": 24,
   "id": "38b530fb",
   "metadata": {},
   "outputs": [
    {
     "name": "stdout",
     "output_type": "stream",
     "text": [
      "None\n"
     ]
    }
   ],
   "source": [
    "t = ['d', 'c', 'e', 'b', 'a']\n",
    "t = t.sort()\n",
    "print(t)"
   ]
  },
  {
   "cell_type": "code",
   "execution_count": 25,
   "id": "eec16174",
   "metadata": {},
   "outputs": [
    {
     "name": "stdout",
     "output_type": "stream",
     "text": [
      "['a', 'c']\n",
      "b\n"
     ]
    }
   ],
   "source": [
    "t = ['a', 'b', 'c']\n",
    "x = t.pop(1)\n",
    "print(t)\n",
    "print(x)"
   ]
  },
  {
   "cell_type": "code",
   "execution_count": 26,
   "id": "f0967d11",
   "metadata": {},
   "outputs": [
    {
     "name": "stdout",
     "output_type": "stream",
     "text": [
      "<class 'str'>\n"
     ]
    }
   ],
   "source": [
    "print(type(x))"
   ]
  },
  {
   "cell_type": "code",
   "execution_count": 27,
   "id": "6d993ed6",
   "metadata": {},
   "outputs": [],
   "source": [
    "t = ['a', 'b', 'c']\n"
   ]
  },
  {
   "cell_type": "code",
   "execution_count": null,
   "id": "e5228d40",
   "metadata": {},
   "outputs": [],
   "source": []
  }
 ],
 "metadata": {
  "kernelspec": {
   "display_name": "Python 3 (ipykernel)",
   "language": "python",
   "name": "python3"
  },
  "language_info": {
   "codemirror_mode": {
    "name": "ipython",
    "version": 3
   },
   "file_extension": ".py",
   "mimetype": "text/x-python",
   "name": "python",
   "nbconvert_exporter": "python",
   "pygments_lexer": "ipython3",
   "version": "3.10.6"
  }
 },
 "nbformat": 4,
 "nbformat_minor": 5
}
