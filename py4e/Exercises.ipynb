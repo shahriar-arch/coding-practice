{
 "cells": [
  {
   "cell_type": "code",
   "execution_count": 2,
   "id": "7d6a503a",
   "metadata": {},
   "outputs": [
    {
     "name": "stdout",
     "output_type": "stream",
     "text": [
      "Enter you name: Chuck\n",
      "Hello Chuck\n"
     ]
    }
   ],
   "source": [
    "# ex02_02\n",
    "# Write a program that uses input to prompt a user\n",
    "# for their name and then welcomes them.\n",
    "\n",
    "name = input(\"Enter you name: \")\n",
    "print(f\"Hello {name}\")"
   ]
  },
  {
   "cell_type": "code",
   "execution_count": 7,
   "id": "b4de66af",
   "metadata": {},
   "outputs": [
    {
     "name": "stdout",
     "output_type": "stream",
     "text": [
      "Enter Hours: 10\n",
      "Enter Rate: 2\n",
      "Pay: 20.0\n"
     ]
    }
   ],
   "source": [
    "#ex02_02\n",
    "#Write a program to prompt the user for hours\n",
    "#and rate per hour to compute gross pay.\n",
    "\n",
    "def pay_computation(hour, rate):\n",
    "    return hour * rate\n",
    "\n",
    "x_hours = float(input(\"Enter Hours: \"))\n",
    "x_rate = float(input(\"Enter Rate: \"))\n",
    "\n",
    "pay = pay_computation(x_hours, x_rate)\n",
    "\n",
    "print(f\"Pay: {round(pay, 2)}\")"
   ]
  },
  {
   "cell_type": "code",
   "execution_count": 12,
   "id": "d8d3482f",
   "metadata": {},
   "outputs": [
    {
     "name": "stdout",
     "output_type": "stream",
     "text": [
      "Temperature in Celsius: 22\n",
      "Temperature in Fahrenheit: 71.6\n"
     ]
    }
   ],
   "source": [
    "#ex02_05\n",
    "# Write a program which prompts the user \n",
    "#for a Celsius temperature, convert the \n",
    "#temperature to Fahrenheit, \n",
    "#and print out the converted temperature.\n",
    "\n",
    "def convert_cel_to_fahr(cel_tmp):\n",
    "    fahr_tmp = (cel_tmp * (9 / 5)) + 32\n",
    "    return fahr_tmp\n",
    "\n",
    "c_tmp = float(input(\"Temperature in Celsius: \"))\n",
    "f_tmp = round(convert_cel_to_fahr(c_tmp), 2)\n",
    "print(f\"Temperature in Fahrenheit: {f_tmp}\")\n"
   ]
  },
  {
   "cell_type": "code",
   "execution_count": 13,
   "id": "85242bd4",
   "metadata": {
    "scrolled": false
   },
   "outputs": [
    {
     "name": "stdout",
     "output_type": "stream",
     "text": [
      "Enter Hours: 45\n",
      "Enter Rate: 10\n",
      "Pay: 475.0\n"
     ]
    }
   ],
   "source": [
    "#ex03_01\n",
    "#Rewrite your pay computation to give the \n",
    "#employee 1.5 times the hourly rate for hours \n",
    "#worked above 40 hours.\n",
    "\n",
    "def pay_computation(hour, rate):\n",
    "    if hour > 40:\n",
    "        pay = (40 * rate) + ((hour - 40) * (rate * 1.5))\n",
    "    else:\n",
    "        pay = hour * rate \n",
    "    return round(pay, 2)\n",
    "\n",
    "x_hours = float(input(\"Enter Hours: \"))\n",
    "x_rate = float(input(\"Enter Rate: \"))\n",
    "\n",
    "total_pay = pay_computation(x_hours, x_rate)\n",
    "\n",
    "print(f\"Pay: {round(total_pay, 2)}\")"
   ]
  },
  {
   "cell_type": "code",
   "execution_count": 16,
   "id": "bce9df36",
   "metadata": {},
   "outputs": [
    {
     "name": "stdout",
     "output_type": "stream",
     "text": [
      "Enter Hours: forty\n",
      "Error, please enter numeric input\n"
     ]
    }
   ],
   "source": [
    "#ex03_02\n",
    "#Rewrite your pay program using try and except\n",
    "#so that your program handles non-numeric input \n",
    "#gracefully by printing a message and exiting \n",
    "#the program. The following shows two executions \n",
    "#of the program:\n",
    "\n",
    "try: \n",
    "    x_hours = float(input(\"Enter Hours: \"))\n",
    "    x_rate = float(input(\"Enter Rate: \"))\n",
    "    total_pay = pay_computation(x_hours, x_rate)\n",
    "    print(f\"Pay: {round(total_pay, 2)}\")\n",
    "\n",
    "except:\n",
    "    print(\"Error, please enter numeric input\")"
   ]
  },
  {
   "cell_type": "code",
   "execution_count": 5,
   "id": "2a6d5962",
   "metadata": {},
   "outputs": [
    {
     "name": "stdout",
     "output_type": "stream",
     "text": [
      "Enter score: 0.5\n",
      "F\n"
     ]
    }
   ],
   "source": [
    "#ex03_03\n",
    "#Write a program to prompt for a score \n",
    "#between 0.0 and 1.0. If the score is \n",
    "#out of range, print an error message. \n",
    "#If the score is between 0.0 and 1.0, \n",
    "#print a grade using the following table:\n",
    "\n",
    "\"\"\"\n",
    "Score   Grade\n",
    ">= 0.9     A\n",
    ">= 0.8     B\n",
    ">= 0.7     C\n",
    ">= 0.6     D\n",
    " < 0.6     F\n",
    "\"\"\"\n",
    "\n",
    "def grading(score):\n",
    "    \"\"\"the function will give a grade\n",
    "    according to the given score.\"\"\"\n",
    "    if score >= 0.0 and score <= 1.0:\n",
    "        if score >= 0.9:\n",
    "            grade = \"A\"\n",
    "        elif score >= 0.8:\n",
    "            grade = \"B\"\n",
    "        elif score >= 0.7:\n",
    "            grade = \"C\"\n",
    "        elif score >= 0.6:\n",
    "            grade = \"D\"\n",
    "        else:\n",
    "            grade = \"F\"\n",
    "        \n",
    "    else:\n",
    "        grade = \"Bad score\"\n",
    "    \n",
    "    return grade\n",
    "\n",
    "try:\n",
    "    i_score = float(input(\"Enter score: \"))\n",
    "    print(grading(i_score))\n",
    "except:\n",
    "    print(\"Bad score\")"
   ]
  },
  {
   "cell_type": "code",
   "execution_count": 7,
   "id": "17afc751",
   "metadata": {},
   "outputs": [
    {
     "name": "stdout",
     "output_type": "stream",
     "text": [
      "Enter Hours: 45\n",
      "Enter Rate: ten\n",
      "Error, please enter numeric input\n"
     ]
    }
   ],
   "source": [
    "#ex04_06\n",
    "\"\"\"\n",
    "Rewrite your pay computation with time-and-a-half for\n",
    "overtime and create a function called computepay which \n",
    "takes two parameters (hours and rate).\n",
    "\"\"\"\n",
    "\n",
    "def computepay(hours, rate):\n",
    "    if hours > 40:\n",
    "        pay = (40 * rate) + ((hours - 40) * (rate * 1.5))\n",
    "    else:\n",
    "        pay = hours * rate \n",
    "    return round(pay, 2)\n",
    "\n",
    "try: \n",
    "    i_hours = float(input(\"Enter Hours: \"))\n",
    "    i_rate = float(input(\"Enter Rate: \"))\n",
    "    total_pay = computepay(i_hours, i_rate)\n",
    "    print(f\"Pay: {total_pay}\")\n",
    "\n",
    "except:\n",
    "    print(\"Error, please enter numeric input\")"
   ]
  },
  {
   "cell_type": "code",
   "execution_count": 12,
   "id": "1539db4e",
   "metadata": {},
   "outputs": [
    {
     "name": "stdout",
     "output_type": "stream",
     "text": [
      "Enter score: 0.5\n",
      "F\n"
     ]
    }
   ],
   "source": [
    "#ex04_07\n",
    "\"\"\"\n",
    "Rewrite the grade program from the previous chapter \n",
    "using a function called computegrade that takes a \n",
    "score as its parameter and returns a grade as a string.\n",
    "\"\"\"\n",
    "\n",
    "def computegrade(score):\n",
    "    \"\"\"the function will give a grade\n",
    "    according to the given score.\"\"\"\n",
    "    if score >= 0.0 and score <= 1.0:\n",
    "        if score >= 0.9:\n",
    "            grade = \"A\"\n",
    "        elif score >= 0.8:\n",
    "            grade = \"B\"\n",
    "        elif score >= 0.7:\n",
    "            grade = \"C\"\n",
    "        elif score >= 0.6:\n",
    "            grade = \"D\"\n",
    "        else:\n",
    "            grade = \"F\"\n",
    "        \n",
    "    else:\n",
    "        grade = \"Bad score\"\n",
    "    \n",
    "    return grade\n",
    "\n",
    "try:\n",
    "    i_score = float(input(\"Enter score: \"))\n",
    "    print(computegrade(i_score))\n",
    "except:\n",
    "    print(\"Bad score\")"
   ]
  },
  {
   "cell_type": "code",
   "execution_count": 15,
   "id": "ac3aa009",
   "metadata": {},
   "outputs": [
    {
     "name": "stdout",
     "output_type": "stream",
     "text": [
      "Enter a number: 4\n",
      "Enter a number: 5\n",
      "Enter a number: bad data\n",
      "Invalid input\n",
      "Enter a number: 7\n",
      "Enter a number: done\n",
      "16.0 3 5.33\n"
     ]
    }
   ],
   "source": [
    "#ex05_01\n",
    "\"\"\"\n",
    "Exercise 1: Write a program which repeatedly reads \n",
    "numbers until the user enters “done”. Once “done” is \n",
    "entered, print out the total, count, and average of the \n",
    "numbers. If the user enters anything other than a \n",
    "number, detect their mistake using try and except and \n",
    "print an error message and skip to the next number.\n",
    "\"\"\"\n",
    "numbers = []\n",
    "\n",
    "while True:\n",
    "    x = input(\"Enter a number: \")\n",
    "    if x == \"done\":\n",
    "        break\n",
    "    else:\n",
    "        try:\n",
    "            x = float(x)\n",
    "            numbers.append(x)\n",
    "        except:\n",
    "            print(\"Invalid input\")\n",
    "\n",
    "total = sum(numbers)\n",
    "count = len(numbers)\n",
    "average = round(total / count, 2)\n",
    "\n",
    "print(total, count, average)"
   ]
  },
  {
   "cell_type": "code",
   "execution_count": 19,
   "id": "7105dc9d",
   "metadata": {
    "scrolled": true
   },
   "outputs": [
    {
     "name": "stdout",
     "output_type": "stream",
     "text": [
      "Enter a number: 4\n",
      "Enter a number: five\n",
      "Invalid input\n",
      "Enter a number: 5\n",
      "Enter a number: 7.9\n",
      "Enter a number: 10.11\n",
      "Enter a number: eight\n",
      "Invalid input\n",
      "Enter a number: 8.9\n",
      "Enter a number: done\n",
      "Max Value: 10.11, Min Value: 4.0\n"
     ]
    }
   ],
   "source": [
    "#ex05_02\n",
    "\"\"\"\n",
    "Write another program that prompts for a list of \n",
    "numbers as above and at the end prints out both \n",
    "the maximum and minimum of the numbers instead \n",
    "of the average.\n",
    "\"\"\"\n",
    "\n",
    "numbers = []\n",
    "\n",
    "while True:\n",
    "    x = input(\"Enter a number: \")\n",
    "    if x == \"done\":\n",
    "        break\n",
    "    else:\n",
    "        try:\n",
    "            x = float(x)\n",
    "            numbers.append(x)\n",
    "        except:\n",
    "            print(\"Invalid input\")\n",
    "\n",
    "numbers.sort()\n",
    "print(f\"Max Value: {numbers[-1]}, Min Value: {numbers[0]}\")"
   ]
  },
  {
   "cell_type": "code",
   "execution_count": 20,
   "id": "8024cbe5",
   "metadata": {},
   "outputs": [
    {
     "ename": "TypeError",
     "evalue": "'<' not supported between instances of 'int' and 'NoneType'",
     "output_type": "error",
     "traceback": [
      "\u001b[0;31m---------------------------------------------------------------------------\u001b[0m",
      "\u001b[0;31mTypeError\u001b[0m                                 Traceback (most recent call last)",
      "Cell \u001b[0;32mIn[20], line 1\u001b[0m\n\u001b[0;32m----> 1\u001b[0m \u001b[38;5;241;43m3\u001b[39;49m\u001b[43m \u001b[49m\u001b[38;5;241;43m<\u001b[39;49m\u001b[43m \u001b[49m\u001b[38;5;28;43;01mNone\u001b[39;49;00m\n",
      "\u001b[0;31mTypeError\u001b[0m: '<' not supported between instances of 'int' and 'NoneType'"
     ]
    }
   ],
   "source": [
    "3 < None"
   ]
  },
  {
   "cell_type": "code",
   "execution_count": 21,
   "id": "6685e87d",
   "metadata": {},
   "outputs": [
    {
     "data": {
      "text/plain": [
       "True"
      ]
     },
     "execution_count": 21,
     "metadata": {},
     "output_type": "execute_result"
    }
   ],
   "source": [
    "0 == 0.0"
   ]
  },
  {
   "cell_type": "code",
   "execution_count": 22,
   "id": "7f522110",
   "metadata": {},
   "outputs": [
    {
     "name": "stderr",
     "output_type": "stream",
     "text": [
      "<>:1: SyntaxWarning: \"is\" with a literal. Did you mean \"==\"?\n",
      "<>:1: SyntaxWarning: \"is\" with a literal. Did you mean \"==\"?\n",
      "/tmp/ipykernel_21608/3964195525.py:1: SyntaxWarning: \"is\" with a literal. Did you mean \"==\"?\n",
      "  0 is 0.0\n"
     ]
    },
    {
     "data": {
      "text/plain": [
       "False"
      ]
     },
     "execution_count": 22,
     "metadata": {},
     "output_type": "execute_result"
    }
   ],
   "source": [
    "0 is 0.0"
   ]
  },
  {
   "cell_type": "code",
   "execution_count": 23,
   "id": "9cd66cce",
   "metadata": {},
   "outputs": [
    {
     "ename": "SyntaxError",
     "evalue": "cannot assign to literal here. Maybe you meant '==' instead of '='? (2104153456.py, line 1)",
     "output_type": "error",
     "traceback": [
      "\u001b[0;36m  Cell \u001b[0;32mIn[23], line 1\u001b[0;36m\u001b[0m\n\u001b[0;31m    0 = 0.0\u001b[0m\n\u001b[0m    ^\u001b[0m\n\u001b[0;31mSyntaxError\u001b[0m\u001b[0;31m:\u001b[0m cannot assign to literal here. Maybe you meant '==' instead of '='?\n"
     ]
    }
   ],
   "source": [
    "0 = 0.0"
   ]
  },
  {
   "cell_type": "code",
   "execution_count": null,
   "id": "bd209855",
   "metadata": {},
   "outputs": [],
   "source": []
  }
 ],
 "metadata": {
  "kernelspec": {
   "display_name": "Python 3 (ipykernel)",
   "language": "python",
   "name": "python3"
  },
  "language_info": {
   "codemirror_mode": {
    "name": "ipython",
    "version": 3
   },
   "file_extension": ".py",
   "mimetype": "text/x-python",
   "name": "python",
   "nbconvert_exporter": "python",
   "pygments_lexer": "ipython3",
   "version": "3.10.6"
  }
 },
 "nbformat": 4,
 "nbformat_minor": 5
}
