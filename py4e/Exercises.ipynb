{
 "cells": [
  {
   "cell_type": "code",
   "execution_count": 2,
   "id": "7d6a503a",
   "metadata": {},
   "outputs": [
    {
     "name": "stdout",
     "output_type": "stream",
     "text": [
      "Enter you name: Chuck\n",
      "Hello Chuck\n"
     ]
    }
   ],
   "source": [
    "# ex02_02\n",
    "# Write a program that uses input to prompt a user\n",
    "# for their name and then welcomes them.\n",
    "\n",
    "name = input(\"Enter you name: \")\n",
    "print(f\"Hello {name}\")"
   ]
  },
  {
   "cell_type": "code",
   "execution_count": 7,
   "id": "b4de66af",
   "metadata": {},
   "outputs": [
    {
     "name": "stdout",
     "output_type": "stream",
     "text": [
      "Enter Hours: 10\n",
      "Enter Rate: 2\n",
      "Pay: 20.0\n"
     ]
    }
   ],
   "source": [
    "#ex02_02\n",
    "#Write a program to prompt the user for hours\n",
    "#and rate per hour to compute gross pay.\n",
    "\n",
    "def pay_computation(hour, rate):\n",
    "    return hour * rate\n",
    "\n",
    "x_hours = float(input(\"Enter Hours: \"))\n",
    "x_rate = float(input(\"Enter Rate: \"))\n",
    "\n",
    "pay = pay_computation(x_hours, x_rate)\n",
    "\n",
    "print(f\"Pay: {round(pay, 2)}\")"
   ]
  },
  {
   "cell_type": "code",
   "execution_count": 12,
   "id": "d8d3482f",
   "metadata": {},
   "outputs": [
    {
     "name": "stdout",
     "output_type": "stream",
     "text": [
      "Temperature in Celsius: 22\n",
      "Temperature in Fahrenheit: 71.6\n"
     ]
    }
   ],
   "source": [
    "#ex02_05\n",
    "# Write a program which prompts the user \n",
    "#for a Celsius temperature, convert the \n",
    "#temperature to Fahrenheit, \n",
    "#and print out the converted temperature.\n",
    "\n",
    "def convert_cel_to_fahr(cel_tmp):\n",
    "    fahr_tmp = (cel_tmp * (9 / 5)) + 32\n",
    "    return fahr_tmp\n",
    "\n",
    "c_tmp = float(input(\"Temperature in Celsius: \"))\n",
    "f_tmp = round(convert_cel_to_fahr(c_tmp), 2)\n",
    "print(f\"Temperature in Fahrenheit: {f_tmp}\")\n"
   ]
  },
  {
   "cell_type": "code",
   "execution_count": 13,
   "id": "85242bd4",
   "metadata": {
    "scrolled": false
   },
   "outputs": [
    {
     "name": "stdout",
     "output_type": "stream",
     "text": [
      "Enter Hours: 45\n",
      "Enter Rate: 10\n",
      "Pay: 475.0\n"
     ]
    }
   ],
   "source": [
    "#ex03_01\n",
    "#Rewrite your pay computation to give the \n",
    "#employee 1.5 times the hourly rate for hours \n",
    "#worked above 40 hours.\n",
    "\n",
    "def pay_computation(hour, rate):\n",
    "    if hour > 40:\n",
    "        pay = (40 * rate) + ((hour - 40) * (rate * 1.5))\n",
    "    else:\n",
    "        pay = hour * rate \n",
    "    return round(pay, 2)\n",
    "\n",
    "x_hours = float(input(\"Enter Hours: \"))\n",
    "x_rate = float(input(\"Enter Rate: \"))\n",
    "\n",
    "total_pay = pay_computation(x_hours, x_rate)\n",
    "\n",
    "print(f\"Pay: {round(total_pay, 2)}\")"
   ]
  },
  {
   "cell_type": "code",
   "execution_count": 16,
   "id": "bce9df36",
   "metadata": {},
   "outputs": [
    {
     "name": "stdout",
     "output_type": "stream",
     "text": [
      "Enter Hours: forty\n",
      "Error, please enter numeric input\n"
     ]
    }
   ],
   "source": [
    "#ex03_02\n",
    "#Rewrite your pay program using try and except\n",
    "#so that your program handles non-numeric input \n",
    "#gracefully by printing a message and exiting \n",
    "#the program. The following shows two executions \n",
    "#of the program:\n",
    "\n",
    "try: \n",
    "    x_hours = float(input(\"Enter Hours: \"))\n",
    "    x_rate = float(input(\"Enter Rate: \"))\n",
    "    total_pay = pay_computation(x_hours, x_rate)\n",
    "    print(f\"Pay: {round(total_pay, 2)}\")\n",
    "\n",
    "except:\n",
    "    print(\"Error, please enter numeric input\")"
   ]
  },
  {
   "cell_type": "code",
   "execution_count": null,
   "id": "2a6d5962",
   "metadata": {},
   "outputs": [],
   "source": [
    "#Write a program to prompt for a score \n",
    "#between 0.0 and 1.0. If the score is \n",
    "#out of range, print an error message. \n",
    "#If the score is between 0.0 and 1.0, \n",
    "#print a grade using the following table:\n",
    "\n",
    "\"\"\"\n",
    "Score   Grade\n",
    ">= 0.9     A\n",
    ">= 0.8     B\n",
    ">= 0.7     C\n",
    ">= 0.6     D\n",
    " < 0.6     F\n",
    "\"\"\"\n",
    "\n",
    "def grading(score):\n",
    "    \"\"\"the function will give a grade\n",
    "    according to the given score.\"\"\"\n",
    "    if score >= 0.0 and score <= 1.0:\n",
    "        if score >= 0.9:\n",
    "            grade = \"A\"\n",
    "        elif score >= 0.8:\n",
    "            grade = \"B\"\n",
    "        \n",
    "    else:\n",
    "        grade = \"Bad score\""
   ]
  }
 ],
 "metadata": {
  "kernelspec": {
   "display_name": "Python 3 (ipykernel)",
   "language": "python",
   "name": "python3"
  },
  "language_info": {
   "codemirror_mode": {
    "name": "ipython",
    "version": 3
   },
   "file_extension": ".py",
   "mimetype": "text/x-python",
   "name": "python",
   "nbconvert_exporter": "python",
   "pygments_lexer": "ipython3",
   "version": "3.10.6"
  }
 },
 "nbformat": 4,
 "nbformat_minor": 5
}
