{
 "cells": [
  {
   "cell_type": "code",
   "execution_count": 18,
   "id": "defd8e8a",
   "metadata": {},
   "outputs": [],
   "source": [
    "hand_1 = [\"A\", \"A\", \"9\"]\n",
    "hand_2 = [\"A\", \"A\", \"9\", \"3\"]\n",
    "hand_3 = [\"K\"]\n",
    "hand_4 = [\"3\", \"4\"]\n",
    "hand_5 = [\"10\"]\n",
    "hand_6 = [\"K\", \"K\", \"2\"]\n",
    "hand_7 = [\"3\"]"
   ]
  },
  {
   "cell_type": "code",
   "execution_count": 3,
   "id": "fceaafe7",
   "metadata": {},
   "outputs": [],
   "source": [
    "sam_list = [10, 11, 2]"
   ]
  },
  {
   "cell_type": "code",
   "execution_count": 7,
   "id": "31375d1a",
   "metadata": {},
   "outputs": [
    {
     "data": {
      "text/plain": [
       "[10, 11, '2']"
      ]
     },
     "execution_count": 7,
     "metadata": {},
     "output_type": "execute_result"
    }
   ],
   "source": [
    "sam_list[2] = str(sam_list[2])\n",
    "sam_list"
   ]
  },
  {
   "cell_type": "code",
   "execution_count": 27,
   "id": "743bb7c0",
   "metadata": {},
   "outputs": [],
   "source": [
    "def convert_hand(input_list):\n",
    "    for ip in range(len(input_list)):\n",
    "        if input_list[ip] == \"J\":\n",
    "            input_list[ip] = 10\n",
    "        elif input_list[ip] == \"Q\":\n",
    "            input_list[ip] = 10\n",
    "        elif input_list[ip] == \"K\":\n",
    "            input_list[ip] = 10\n",
    "        elif input_list[ip] == \"A\":\n",
    "            input_list[ip] = 11\n",
    "        else:\n",
    "            input_list[ip] = int(input_list[ip])\n",
    "    # now check for ace\n",
    "    if sum(input_list) > 21:\n",
    "        for i in range(len(input_list)):\n",
    "            if sum(input_list) > 21:\n",
    "                if input_list[i] == 11:\n",
    "                    input_list[i] = 1\n",
    "        "
   ]
  },
  {
   "cell_type": "code",
   "execution_count": 34,
   "id": "142eb7db",
   "metadata": {},
   "outputs": [],
   "source": [
    "hand_x = [\"J\", \"A\"]\n",
    "hand_y = [\"6\"]"
   ]
  },
  {
   "cell_type": "code",
   "execution_count": 35,
   "id": "fef011a8",
   "metadata": {},
   "outputs": [],
   "source": [
    "convert_hand(hand_x)\n",
    "convert_hand(hand_y)"
   ]
  },
  {
   "cell_type": "code",
   "execution_count": 37,
   "id": "4b0ab5b0",
   "metadata": {},
   "outputs": [
    {
     "data": {
      "text/plain": [
       "[10, 11]"
      ]
     },
     "execution_count": 37,
     "metadata": {},
     "output_type": "execute_result"
    }
   ],
   "source": [
    "hand_x"
   ]
  },
  {
   "cell_type": "code",
   "execution_count": 38,
   "id": "639db616",
   "metadata": {},
   "outputs": [
    {
     "data": {
      "text/plain": [
       "[6]"
      ]
     },
     "execution_count": 38,
     "metadata": {},
     "output_type": "execute_result"
    }
   ],
   "source": [
    "hand_y"
   ]
  },
  {
   "cell_type": "code",
   "execution_count": null,
   "id": "fd6ac1f1",
   "metadata": {},
   "outputs": [],
   "source": [
    "sum"
   ]
  }
 ],
 "metadata": {
  "kernelspec": {
   "display_name": "Python 3 (ipykernel)",
   "language": "python",
   "name": "python3"
  },
  "language_info": {
   "codemirror_mode": {
    "name": "ipython",
    "version": 3
   },
   "file_extension": ".py",
   "mimetype": "text/x-python",
   "name": "python",
   "nbconvert_exporter": "python",
   "pygments_lexer": "ipython3",
   "version": "3.10.6"
  }
 },
 "nbformat": 4,
 "nbformat_minor": 5
}
